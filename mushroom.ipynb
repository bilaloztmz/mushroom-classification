{
 "cells": [
  {
   "cell_type": "markdown",
   "metadata": {
    "pycharm": {
     "name": "#%% md\n"
    }
   },
   "source": [
    "# CENG313 Introduction to Data Science Project\n",
    "## Group Name: Jigglypuff\n",
    "### Group Members\n",
    "171180055 Bilal Öztemiz<br>\n",
    "171180758 Candan Baykan<br>"
   ]
  },
  {
   "cell_type": "code",
   "execution_count": 1,
   "metadata": {
    "pycharm": {
     "name": "#%%\n"
    }
   },
   "outputs": [
    {
     "data": {
      "text/html": [
       "<div>\n",
       "<style scoped>\n",
       "    .dataframe tbody tr th:only-of-type {\n",
       "        vertical-align: middle;\n",
       "    }\n",
       "\n",
       "    .dataframe tbody tr th {\n",
       "        vertical-align: top;\n",
       "    }\n",
       "\n",
       "    .dataframe thead th {\n",
       "        text-align: right;\n",
       "    }\n",
       "</style>\n",
       "<table border=\"1\" class=\"dataframe\">\n",
       "  <thead>\n",
       "    <tr style=\"text-align: right;\">\n",
       "      <th></th>\n",
       "      <th>class</th>\n",
       "      <th>cap-shape</th>\n",
       "      <th>cap-surface</th>\n",
       "      <th>cap-color</th>\n",
       "      <th>bruises</th>\n",
       "      <th>odor</th>\n",
       "      <th>gill-attachment</th>\n",
       "      <th>gill-spacing</th>\n",
       "      <th>gill-size</th>\n",
       "      <th>gill-color</th>\n",
       "      <th>...</th>\n",
       "      <th>stalk-surface-below-ring</th>\n",
       "      <th>stalk-color-above-ring</th>\n",
       "      <th>stalk-color-below-ring</th>\n",
       "      <th>veil-type</th>\n",
       "      <th>veil-color</th>\n",
       "      <th>ring-number</th>\n",
       "      <th>ring-type</th>\n",
       "      <th>spore-print-color</th>\n",
       "      <th>population</th>\n",
       "      <th>habitat</th>\n",
       "    </tr>\n",
       "  </thead>\n",
       "  <tbody>\n",
       "    <tr>\n",
       "      <th>0</th>\n",
       "      <td>p</td>\n",
       "      <td>x</td>\n",
       "      <td>s</td>\n",
       "      <td>n</td>\n",
       "      <td>t</td>\n",
       "      <td>p</td>\n",
       "      <td>f</td>\n",
       "      <td>c</td>\n",
       "      <td>n</td>\n",
       "      <td>k</td>\n",
       "      <td>...</td>\n",
       "      <td>s</td>\n",
       "      <td>w</td>\n",
       "      <td>w</td>\n",
       "      <td>p</td>\n",
       "      <td>w</td>\n",
       "      <td>o</td>\n",
       "      <td>p</td>\n",
       "      <td>k</td>\n",
       "      <td>s</td>\n",
       "      <td>u</td>\n",
       "    </tr>\n",
       "    <tr>\n",
       "      <th>1</th>\n",
       "      <td>e</td>\n",
       "      <td>x</td>\n",
       "      <td>s</td>\n",
       "      <td>y</td>\n",
       "      <td>t</td>\n",
       "      <td>a</td>\n",
       "      <td>f</td>\n",
       "      <td>c</td>\n",
       "      <td>b</td>\n",
       "      <td>k</td>\n",
       "      <td>...</td>\n",
       "      <td>s</td>\n",
       "      <td>w</td>\n",
       "      <td>w</td>\n",
       "      <td>p</td>\n",
       "      <td>w</td>\n",
       "      <td>o</td>\n",
       "      <td>p</td>\n",
       "      <td>n</td>\n",
       "      <td>n</td>\n",
       "      <td>g</td>\n",
       "    </tr>\n",
       "    <tr>\n",
       "      <th>2</th>\n",
       "      <td>e</td>\n",
       "      <td>b</td>\n",
       "      <td>s</td>\n",
       "      <td>w</td>\n",
       "      <td>t</td>\n",
       "      <td>l</td>\n",
       "      <td>f</td>\n",
       "      <td>c</td>\n",
       "      <td>b</td>\n",
       "      <td>n</td>\n",
       "      <td>...</td>\n",
       "      <td>s</td>\n",
       "      <td>w</td>\n",
       "      <td>w</td>\n",
       "      <td>p</td>\n",
       "      <td>w</td>\n",
       "      <td>o</td>\n",
       "      <td>p</td>\n",
       "      <td>n</td>\n",
       "      <td>n</td>\n",
       "      <td>m</td>\n",
       "    </tr>\n",
       "    <tr>\n",
       "      <th>3</th>\n",
       "      <td>p</td>\n",
       "      <td>x</td>\n",
       "      <td>y</td>\n",
       "      <td>w</td>\n",
       "      <td>t</td>\n",
       "      <td>p</td>\n",
       "      <td>f</td>\n",
       "      <td>c</td>\n",
       "      <td>n</td>\n",
       "      <td>n</td>\n",
       "      <td>...</td>\n",
       "      <td>s</td>\n",
       "      <td>w</td>\n",
       "      <td>w</td>\n",
       "      <td>p</td>\n",
       "      <td>w</td>\n",
       "      <td>o</td>\n",
       "      <td>p</td>\n",
       "      <td>k</td>\n",
       "      <td>s</td>\n",
       "      <td>u</td>\n",
       "    </tr>\n",
       "    <tr>\n",
       "      <th>4</th>\n",
       "      <td>e</td>\n",
       "      <td>x</td>\n",
       "      <td>s</td>\n",
       "      <td>g</td>\n",
       "      <td>f</td>\n",
       "      <td>n</td>\n",
       "      <td>f</td>\n",
       "      <td>w</td>\n",
       "      <td>b</td>\n",
       "      <td>k</td>\n",
       "      <td>...</td>\n",
       "      <td>s</td>\n",
       "      <td>w</td>\n",
       "      <td>w</td>\n",
       "      <td>p</td>\n",
       "      <td>w</td>\n",
       "      <td>o</td>\n",
       "      <td>e</td>\n",
       "      <td>n</td>\n",
       "      <td>a</td>\n",
       "      <td>g</td>\n",
       "    </tr>\n",
       "    <tr>\n",
       "      <th>...</th>\n",
       "      <td>...</td>\n",
       "      <td>...</td>\n",
       "      <td>...</td>\n",
       "      <td>...</td>\n",
       "      <td>...</td>\n",
       "      <td>...</td>\n",
       "      <td>...</td>\n",
       "      <td>...</td>\n",
       "      <td>...</td>\n",
       "      <td>...</td>\n",
       "      <td>...</td>\n",
       "      <td>...</td>\n",
       "      <td>...</td>\n",
       "      <td>...</td>\n",
       "      <td>...</td>\n",
       "      <td>...</td>\n",
       "      <td>...</td>\n",
       "      <td>...</td>\n",
       "      <td>...</td>\n",
       "      <td>...</td>\n",
       "      <td>...</td>\n",
       "    </tr>\n",
       "    <tr>\n",
       "      <th>8119</th>\n",
       "      <td>e</td>\n",
       "      <td>k</td>\n",
       "      <td>s</td>\n",
       "      <td>n</td>\n",
       "      <td>f</td>\n",
       "      <td>n</td>\n",
       "      <td>a</td>\n",
       "      <td>c</td>\n",
       "      <td>b</td>\n",
       "      <td>y</td>\n",
       "      <td>...</td>\n",
       "      <td>s</td>\n",
       "      <td>o</td>\n",
       "      <td>o</td>\n",
       "      <td>p</td>\n",
       "      <td>o</td>\n",
       "      <td>o</td>\n",
       "      <td>p</td>\n",
       "      <td>b</td>\n",
       "      <td>c</td>\n",
       "      <td>l</td>\n",
       "    </tr>\n",
       "    <tr>\n",
       "      <th>8120</th>\n",
       "      <td>e</td>\n",
       "      <td>x</td>\n",
       "      <td>s</td>\n",
       "      <td>n</td>\n",
       "      <td>f</td>\n",
       "      <td>n</td>\n",
       "      <td>a</td>\n",
       "      <td>c</td>\n",
       "      <td>b</td>\n",
       "      <td>y</td>\n",
       "      <td>...</td>\n",
       "      <td>s</td>\n",
       "      <td>o</td>\n",
       "      <td>o</td>\n",
       "      <td>p</td>\n",
       "      <td>n</td>\n",
       "      <td>o</td>\n",
       "      <td>p</td>\n",
       "      <td>b</td>\n",
       "      <td>v</td>\n",
       "      <td>l</td>\n",
       "    </tr>\n",
       "    <tr>\n",
       "      <th>8121</th>\n",
       "      <td>e</td>\n",
       "      <td>f</td>\n",
       "      <td>s</td>\n",
       "      <td>n</td>\n",
       "      <td>f</td>\n",
       "      <td>n</td>\n",
       "      <td>a</td>\n",
       "      <td>c</td>\n",
       "      <td>b</td>\n",
       "      <td>n</td>\n",
       "      <td>...</td>\n",
       "      <td>s</td>\n",
       "      <td>o</td>\n",
       "      <td>o</td>\n",
       "      <td>p</td>\n",
       "      <td>o</td>\n",
       "      <td>o</td>\n",
       "      <td>p</td>\n",
       "      <td>b</td>\n",
       "      <td>c</td>\n",
       "      <td>l</td>\n",
       "    </tr>\n",
       "    <tr>\n",
       "      <th>8122</th>\n",
       "      <td>p</td>\n",
       "      <td>k</td>\n",
       "      <td>y</td>\n",
       "      <td>n</td>\n",
       "      <td>f</td>\n",
       "      <td>y</td>\n",
       "      <td>f</td>\n",
       "      <td>c</td>\n",
       "      <td>n</td>\n",
       "      <td>b</td>\n",
       "      <td>...</td>\n",
       "      <td>k</td>\n",
       "      <td>w</td>\n",
       "      <td>w</td>\n",
       "      <td>p</td>\n",
       "      <td>w</td>\n",
       "      <td>o</td>\n",
       "      <td>e</td>\n",
       "      <td>w</td>\n",
       "      <td>v</td>\n",
       "      <td>l</td>\n",
       "    </tr>\n",
       "    <tr>\n",
       "      <th>8123</th>\n",
       "      <td>e</td>\n",
       "      <td>x</td>\n",
       "      <td>s</td>\n",
       "      <td>n</td>\n",
       "      <td>f</td>\n",
       "      <td>n</td>\n",
       "      <td>a</td>\n",
       "      <td>c</td>\n",
       "      <td>b</td>\n",
       "      <td>y</td>\n",
       "      <td>...</td>\n",
       "      <td>s</td>\n",
       "      <td>o</td>\n",
       "      <td>o</td>\n",
       "      <td>p</td>\n",
       "      <td>o</td>\n",
       "      <td>o</td>\n",
       "      <td>p</td>\n",
       "      <td>o</td>\n",
       "      <td>c</td>\n",
       "      <td>l</td>\n",
       "    </tr>\n",
       "  </tbody>\n",
       "</table>\n",
       "<p>8124 rows × 23 columns</p>\n",
       "</div>"
      ],
      "text/plain": [
       "     class cap-shape cap-surface cap-color bruises odor gill-attachment  \\\n",
       "0        p         x           s         n       t    p               f   \n",
       "1        e         x           s         y       t    a               f   \n",
       "2        e         b           s         w       t    l               f   \n",
       "3        p         x           y         w       t    p               f   \n",
       "4        e         x           s         g       f    n               f   \n",
       "...    ...       ...         ...       ...     ...  ...             ...   \n",
       "8119     e         k           s         n       f    n               a   \n",
       "8120     e         x           s         n       f    n               a   \n",
       "8121     e         f           s         n       f    n               a   \n",
       "8122     p         k           y         n       f    y               f   \n",
       "8123     e         x           s         n       f    n               a   \n",
       "\n",
       "     gill-spacing gill-size gill-color  ... stalk-surface-below-ring  \\\n",
       "0               c         n          k  ...                        s   \n",
       "1               c         b          k  ...                        s   \n",
       "2               c         b          n  ...                        s   \n",
       "3               c         n          n  ...                        s   \n",
       "4               w         b          k  ...                        s   \n",
       "...           ...       ...        ...  ...                      ...   \n",
       "8119            c         b          y  ...                        s   \n",
       "8120            c         b          y  ...                        s   \n",
       "8121            c         b          n  ...                        s   \n",
       "8122            c         n          b  ...                        k   \n",
       "8123            c         b          y  ...                        s   \n",
       "\n",
       "     stalk-color-above-ring stalk-color-below-ring veil-type veil-color  \\\n",
       "0                         w                      w         p          w   \n",
       "1                         w                      w         p          w   \n",
       "2                         w                      w         p          w   \n",
       "3                         w                      w         p          w   \n",
       "4                         w                      w         p          w   \n",
       "...                     ...                    ...       ...        ...   \n",
       "8119                      o                      o         p          o   \n",
       "8120                      o                      o         p          n   \n",
       "8121                      o                      o         p          o   \n",
       "8122                      w                      w         p          w   \n",
       "8123                      o                      o         p          o   \n",
       "\n",
       "     ring-number ring-type spore-print-color population habitat  \n",
       "0              o         p                 k          s       u  \n",
       "1              o         p                 n          n       g  \n",
       "2              o         p                 n          n       m  \n",
       "3              o         p                 k          s       u  \n",
       "4              o         e                 n          a       g  \n",
       "...          ...       ...               ...        ...     ...  \n",
       "8119           o         p                 b          c       l  \n",
       "8120           o         p                 b          v       l  \n",
       "8121           o         p                 b          c       l  \n",
       "8122           o         e                 w          v       l  \n",
       "8123           o         p                 o          c       l  \n",
       "\n",
       "[8124 rows x 23 columns]"
      ]
     },
     "metadata": {},
     "output_type": "display_data"
    },
    {
     "name": "stdout",
     "output_type": "stream",
     "text": [
      "<class 'pandas.core.frame.DataFrame'>\n",
      "RangeIndex: 8124 entries, 0 to 8123\n",
      "Data columns (total 23 columns):\n",
      " #   Column                    Non-Null Count  Dtype \n",
      "---  ------                    --------------  ----- \n",
      " 0   class                     8124 non-null   object\n",
      " 1   cap-shape                 8124 non-null   object\n",
      " 2   cap-surface               8124 non-null   object\n",
      " 3   cap-color                 8124 non-null   object\n",
      " 4   bruises                   8124 non-null   object\n",
      " 5   odor                      8124 non-null   object\n",
      " 6   gill-attachment           8124 non-null   object\n",
      " 7   gill-spacing              8124 non-null   object\n",
      " 8   gill-size                 8124 non-null   object\n",
      " 9   gill-color                8124 non-null   object\n",
      " 10  stalk-shape               8124 non-null   object\n",
      " 11  stalk-root                5644 non-null   object\n",
      " 12  stalk-surface-above-ring  8124 non-null   object\n",
      " 13  stalk-surface-below-ring  8124 non-null   object\n",
      " 14  stalk-color-above-ring    8124 non-null   object\n",
      " 15  stalk-color-below-ring    8124 non-null   object\n",
      " 16  veil-type                 8124 non-null   object\n",
      " 17  veil-color                8124 non-null   object\n",
      " 18  ring-number               8124 non-null   object\n",
      " 19  ring-type                 8124 non-null   object\n",
      " 20  spore-print-color         8124 non-null   object\n",
      " 21  population                8124 non-null   object\n",
      " 22  habitat                   8124 non-null   object\n",
      "dtypes: object(23)\n",
      "memory usage: 1.4+ MB\n"
     ]
    },
    {
     "data": {
      "text/html": [
       "<div>\n",
       "<style scoped>\n",
       "    .dataframe tbody tr th:only-of-type {\n",
       "        vertical-align: middle;\n",
       "    }\n",
       "\n",
       "    .dataframe tbody tr th {\n",
       "        vertical-align: top;\n",
       "    }\n",
       "\n",
       "    .dataframe thead th {\n",
       "        text-align: right;\n",
       "    }\n",
       "</style>\n",
       "<table border=\"1\" class=\"dataframe\">\n",
       "  <thead>\n",
       "    <tr style=\"text-align: right;\">\n",
       "      <th></th>\n",
       "      <th>class</th>\n",
       "      <th>cap-shape</th>\n",
       "      <th>cap-surface</th>\n",
       "      <th>cap-color</th>\n",
       "      <th>bruises</th>\n",
       "      <th>odor</th>\n",
       "      <th>gill-attachment</th>\n",
       "      <th>gill-spacing</th>\n",
       "      <th>gill-size</th>\n",
       "      <th>gill-color</th>\n",
       "      <th>...</th>\n",
       "      <th>stalk-surface-below-ring</th>\n",
       "      <th>stalk-color-above-ring</th>\n",
       "      <th>stalk-color-below-ring</th>\n",
       "      <th>veil-type</th>\n",
       "      <th>veil-color</th>\n",
       "      <th>ring-number</th>\n",
       "      <th>ring-type</th>\n",
       "      <th>spore-print-color</th>\n",
       "      <th>population</th>\n",
       "      <th>habitat</th>\n",
       "    </tr>\n",
       "  </thead>\n",
       "  <tbody>\n",
       "    <tr>\n",
       "      <th>count</th>\n",
       "      <td>8124</td>\n",
       "      <td>8124</td>\n",
       "      <td>8124</td>\n",
       "      <td>8124</td>\n",
       "      <td>8124</td>\n",
       "      <td>8124</td>\n",
       "      <td>8124</td>\n",
       "      <td>8124</td>\n",
       "      <td>8124</td>\n",
       "      <td>8124</td>\n",
       "      <td>...</td>\n",
       "      <td>8124</td>\n",
       "      <td>8124</td>\n",
       "      <td>8124</td>\n",
       "      <td>8124</td>\n",
       "      <td>8124</td>\n",
       "      <td>8124</td>\n",
       "      <td>8124</td>\n",
       "      <td>8124</td>\n",
       "      <td>8124</td>\n",
       "      <td>8124</td>\n",
       "    </tr>\n",
       "    <tr>\n",
       "      <th>unique</th>\n",
       "      <td>2</td>\n",
       "      <td>6</td>\n",
       "      <td>4</td>\n",
       "      <td>10</td>\n",
       "      <td>2</td>\n",
       "      <td>9</td>\n",
       "      <td>2</td>\n",
       "      <td>2</td>\n",
       "      <td>2</td>\n",
       "      <td>12</td>\n",
       "      <td>...</td>\n",
       "      <td>4</td>\n",
       "      <td>9</td>\n",
       "      <td>9</td>\n",
       "      <td>1</td>\n",
       "      <td>4</td>\n",
       "      <td>3</td>\n",
       "      <td>5</td>\n",
       "      <td>9</td>\n",
       "      <td>6</td>\n",
       "      <td>7</td>\n",
       "    </tr>\n",
       "    <tr>\n",
       "      <th>top</th>\n",
       "      <td>e</td>\n",
       "      <td>x</td>\n",
       "      <td>y</td>\n",
       "      <td>n</td>\n",
       "      <td>f</td>\n",
       "      <td>n</td>\n",
       "      <td>f</td>\n",
       "      <td>c</td>\n",
       "      <td>b</td>\n",
       "      <td>b</td>\n",
       "      <td>...</td>\n",
       "      <td>s</td>\n",
       "      <td>w</td>\n",
       "      <td>w</td>\n",
       "      <td>p</td>\n",
       "      <td>w</td>\n",
       "      <td>o</td>\n",
       "      <td>p</td>\n",
       "      <td>w</td>\n",
       "      <td>v</td>\n",
       "      <td>d</td>\n",
       "    </tr>\n",
       "    <tr>\n",
       "      <th>freq</th>\n",
       "      <td>4208</td>\n",
       "      <td>3656</td>\n",
       "      <td>3244</td>\n",
       "      <td>2284</td>\n",
       "      <td>4748</td>\n",
       "      <td>3528</td>\n",
       "      <td>7914</td>\n",
       "      <td>6812</td>\n",
       "      <td>5612</td>\n",
       "      <td>1728</td>\n",
       "      <td>...</td>\n",
       "      <td>4936</td>\n",
       "      <td>4464</td>\n",
       "      <td>4384</td>\n",
       "      <td>8124</td>\n",
       "      <td>7924</td>\n",
       "      <td>7488</td>\n",
       "      <td>3968</td>\n",
       "      <td>2388</td>\n",
       "      <td>4040</td>\n",
       "      <td>3148</td>\n",
       "    </tr>\n",
       "  </tbody>\n",
       "</table>\n",
       "<p>4 rows × 23 columns</p>\n",
       "</div>"
      ],
      "text/plain": [
       "       class cap-shape cap-surface cap-color bruises  odor gill-attachment  \\\n",
       "count   8124      8124        8124      8124    8124  8124            8124   \n",
       "unique     2         6           4        10       2     9               2   \n",
       "top        e         x           y         n       f     n               f   \n",
       "freq    4208      3656        3244      2284    4748  3528            7914   \n",
       "\n",
       "       gill-spacing gill-size gill-color  ... stalk-surface-below-ring  \\\n",
       "count          8124      8124       8124  ...                     8124   \n",
       "unique            2         2         12  ...                        4   \n",
       "top               c         b          b  ...                        s   \n",
       "freq           6812      5612       1728  ...                     4936   \n",
       "\n",
       "       stalk-color-above-ring stalk-color-below-ring veil-type veil-color  \\\n",
       "count                    8124                   8124      8124       8124   \n",
       "unique                      9                      9         1          4   \n",
       "top                         w                      w         p          w   \n",
       "freq                     4464                   4384      8124       7924   \n",
       "\n",
       "       ring-number ring-type spore-print-color population habitat  \n",
       "count         8124      8124              8124       8124    8124  \n",
       "unique           3         5                 9          6       7  \n",
       "top              o         p                 w          v       d  \n",
       "freq          7488      3968              2388       4040    3148  \n",
       "\n",
       "[4 rows x 23 columns]"
      ]
     },
     "metadata": {},
     "output_type": "display_data"
    }
   ],
   "source": [
    "# Import required modules\n",
    "from IPython.display import display\n",
    "import pandas\n",
    "import sklearn.ensemble\n",
    "import sklearn.metrics\n",
    "import sklearn.model_selection\n",
    "import sklearn.neighbors\n",
    "import sklearn.tree\n",
    "import matplotlib.pyplot as plt\n",
    "\n",
    "# Populate data frame from csv\n",
    "df = pandas.read_csv('mushrooms.csv', na_values='?')\n",
    "# Show data frame\n",
    "display(df)\n",
    "# Show summary\n",
    "df.info()\n",
    "# Show statistical summary\n",
    "display(df.describe())"
   ]
  },
  {
   "cell_type": "markdown",
   "metadata": {
    "pycharm": {
     "name": "#%% md\n"
    }
   },
   "source": [
    "## Visualization"
   ]
  },
  {
   "cell_type": "markdown",
   "metadata": {},
   "source": [
    "## Data Cleaning"
   ]
  },
  {
   "cell_type": "code",
   "execution_count": 2,
   "metadata": {
    "pycharm": {
     "name": "#%%\n"
    }
   },
   "outputs": [
    {
     "name": "stdout",
     "output_type": "stream",
     "text": [
      "<class 'pandas.core.frame.DataFrame'>\n",
      "RangeIndex: 8124 entries, 0 to 8123\n",
      "Columns: 109 entries, class to habitat_w\n",
      "dtypes: category(108), uint8(1)\n",
      "memory usage: 875.0 KB\n"
     ]
    }
   ],
   "source": [
    "df_cleaned = df.copy()\n",
    "\n",
    "# Drop veil-type column because all values are partial\n",
    "df_cleaned = df_cleaned.drop('veil-type', axis=1)\n",
    "\n",
    "# Apply replacement because ring-number is a numerical feature\n",
    "# none = 0, one = 1, two = 2\n",
    "df_cleaned['ring-number'] = df_cleaned['ring-number'].map({'n': 0, 'o': 1, 't': 2}).astype('uint8')\n",
    "\n",
    "# Replace binary features with 1 and 0\n",
    "for column in df_cleaned:\n",
    "    if df_cleaned[column].nunique() == 2:\n",
    "        df_cleaned[column] = df_cleaned[column].astype('category').cat.codes\n",
    "\n",
    "# Apply one hot encoding to other categorical features\n",
    "df_cleaned = pandas.get_dummies(df_cleaned)\n",
    "\n",
    "# Cast all columns to category type except ring-number\n",
    "for column in df_cleaned.drop('ring-number', axis=1):\n",
    "    df_cleaned[column] = df_cleaned[column].astype('category')\n",
    "\n",
    "df_cleaned.info()"
   ]
  },
  {
   "cell_type": "code",
   "execution_count": 3,
   "metadata": {
    "pycharm": {
     "name": "#%%\n"
    }
   },
   "outputs": [],
   "source": [
    "# Split target and features\n",
    "y = df_cleaned['class']\n",
    "X = df_cleaned.drop('class', axis=1)\n",
    "\n",
    "# Apply the given model to the dataset\n",
    "def apply_model(model, X, y, train_size=0.7, random_state=12345):\n",
    "    # Split train and test data\n",
    "    X_train, X_test, y_train, y_test = sklearn.model_selection.train_test_split(X, y, train_size=train_size, random_state=random_state)\n",
    "    # Train model\n",
    "    model.fit(X_train, y_train)\n",
    "    # Return prediction results and classes of test data\n",
    "    return model.predict(X_test), y_test"
   ]
  },
  {
   "cell_type": "code",
   "execution_count": 4,
   "metadata": {},
   "outputs": [
    {
     "name": "stdout",
     "output_type": "stream",
     "text": [
      "cap-shape  class\n",
      "b          e         404\n",
      "           p          48\n",
      "c          p           4\n",
      "f          e        1596\n",
      "           p        1556\n",
      "k          e         228\n",
      "           p         600\n",
      "s          e          32\n",
      "x          e        1948\n",
      "           p        1708\n",
      "Name: class, dtype: int64\n",
      "Bell cape-shape Mushrooms' 89.38053097345133 % are edible.\n",
      "Conical cape-shape Mushrooms' 0.0 % are edible.\n",
      "Flat cape-shape Mushrooms' 50.63451776649747 % are edible.\n",
      "Knobbed cape-shape Mushrooms' 27.536231884057973 % are edible.\n",
      "Sunken cape-shape Mushrooms' 100.0 % are edible.\n",
      "Convex cape-shape Mushrooms' 53.282275711159734 % are edible.\n"
     ]
    },
    {
     "data": {
      "image/png": "[encoded data removed]",
      "text/plain": [
       "<Figure size 432x288 with 1 Axes>"
      ]
     },
     "metadata": {
      "needs_background": "light"
     },
     "output_type": "display_data"
    }
   ],
   "source": [
    "#cape-shape posınous and edıbles graphıcs\n",
    "\n",
    "print (df.groupby(['cap-shape','class'])['class'].count())\n",
    "\n",
    "bellEdible = df.groupby(['cap-shape','class'])['class'].count()[0]  \n",
    "bellPosionus = df.groupby(['cap-shape','class'])['class'].count()[1]\n",
    "bell = bellEdible + bellPosionus\n",
    "\n",
    "conicalEdible = 0 #There is no Edible Conical data in our dataset \n",
    "conicalPosionus = df.groupby(['cap-shape','class'])['class'].count()[2] \n",
    "conical = conicalEdible + conicalPosionus\n",
    "\n",
    "flatEdible = df.groupby(['cap-shape','class'])['class'].count()[3]  \n",
    "flatPosionus = df.groupby(['cap-shape','class'])['class'].count()[4]\n",
    "flat = flatEdible + flatPosionus\n",
    "\n",
    "knobbedEdible = df.groupby(['cap-shape','class'])['class'].count()[5]  \n",
    "knobbedPosionus = df.groupby(['cap-shape','class'])['class'].count()[6]\n",
    "knobbed = knobbedEdible + knobbedPosionus\n",
    "\n",
    "sunkenEdible = df.groupby(['cap-shape','class'])['class'].count()[7]  \n",
    "sunkenPosinous  = 0 #There is no Sunken Posinous data in our dataset\n",
    "sunken = sunkenEdible + sunkenPosinous\n",
    "\n",
    "convexEdible = df.groupby(['cap-shape','class'])['class'].count()[8]  \n",
    "convexPosionus = df.groupby(['cap-shape','class'])['class'].count()[9]\n",
    "convex = convexEdible + convexPosionus\n",
    "\n",
    "greenBars = [bellEdible, conicalEdible,  flatEdible, knobbedEdible, sunkenEdible, convexEdible]\n",
    "redBars = [bellPosionus, conicalPosionus, flatPosionus, knobbedPosionus, sunkenPosinous, convexPosionus]\n",
    "\n",
    "r = ['Bell', 'Conical', 'Flat', 'Knobbed','Sunken', 'Convex']\n",
    "plt.bar(r, greenBars, color='#b5ffb9')\n",
    "plt.bar(r, redBars, bottom=greenBars, color='#F9685F')\n",
    "\n",
    "\n",
    "print('Bell cape-shape Mushrooms\\'', bellEdible / bell * 100 ,'% are edible.')\n",
    "print('Conical cape-shape Mushrooms\\'', conicalEdible / conical * 100 ,'% are edible.')\n",
    "print('Flat cape-shape Mushrooms\\'', flatEdible / flat * 100 ,'% are edible.')\n",
    "print('Knobbed cape-shape Mushrooms\\'', knobbedEdible / knobbed * 100 ,'% are edible.')\n",
    "print('Sunken cape-shape Mushrooms\\'', sunkenEdible / sunken * 100 ,'% are edible.')\n",
    "print('Convex cape-shape Mushrooms\\'', convexEdible / convex * 100 ,'% are edible.')\n"
   ]
  },
  {
   "cell_type": "code",
   "execution_count": 5,
   "metadata": {},
   "outputs": [
    {
     "name": "stdout",
     "output_type": "stream",
     "text": [
      "cap-surface  class\n",
      "f            e        1560\n",
      "             p         760\n",
      "g            p           4\n",
      "s            e        1144\n",
      "             p        1412\n",
      "y            e        1504\n",
      "             p        1740\n",
      "Name: class, dtype: int64\n",
      "Fibrous cape-surface Mushrooms' 67.24137931034483 % are edible.\n",
      "Grooves cape-surface Mushrooms' 0.0 % are edible.\n",
      "Scaly cape-surface Mushrooms' 44.75743348982786 % are edible.\n",
      "Smooth cape-surface Mushrooms' 46.362515413070284 % are edible.\n"
     ]
    },
    {
     "data": {
      "image/png": "[encoded data removed]",
      "text/plain": [
       "<Figure size 432x288 with 1 Axes>"
      ]
     },
     "metadata": {
      "needs_background": "light"
     },
     "output_type": "display_data"
    }
   ],
   "source": [
    "#cape-surface posınous and edıbles graphıcs\n",
    "\n",
    "print (df.groupby(['cap-surface','class'])['class'].count())\n",
    "\n",
    "fibrousEdible = df.groupby(['cap-surface','class'])['class'].count()[0]  \n",
    "fibrousPosionus = df.groupby(['cap-surface','class'])['class'].count()[1]\n",
    "fibrous = fibrousEdible + fibrousPosionus\n",
    "\n",
    "groovesEdible = 0  \n",
    "groovesPosionus = df.groupby(['cap-surface','class'])['class'].count()[2]\n",
    "grooves = groovesEdible + groovesPosionus\n",
    "\n",
    "scalyEdible = df.groupby(['cap-surface','class'])['class'].count()[3]  \n",
    "scalyPosionus = df.groupby(['cap-surface','class'])['class'].count()[4]\n",
    "scaly = scalyEdible + scalyPosionus\n",
    "\n",
    "smoothEdible = df.groupby(['cap-surface','class'])['class'].count()[5]  \n",
    "smoothPosionus = df.groupby(['cap-surface','class'])['class'].count()[6]\n",
    "smooth = smoothEdible + smoothPosionus\n",
    "\n",
    "greenBars = [fibrousEdible, groovesEdible,  scalyEdible, smoothEdible]\n",
    "redBars = [fibrousPosionus, groovesPosionus, scalyPosionus, smoothPosionus]\n",
    "\n",
    "r = ['Fibrous', 'Grooves', 'Scaly', 'Smooth']\n",
    "plt.bar(r, greenBars, color='#b5ffb9')\n",
    "plt.bar(r, redBars, bottom=greenBars, color='#F9685F')\n",
    "\n",
    "print('Fibrous cape-surface Mushrooms\\'', fibrousEdible / fibrous * 100 ,'% are edible.')\n",
    "print('Grooves cape-surface Mushrooms\\'', groovesEdible / grooves * 100 ,'% are edible.')\n",
    "print('Scaly cape-surface Mushrooms\\'', scalyEdible / scaly * 100 ,'% are edible.')\n",
    "print('Smooth cape-surface Mushrooms\\'', smoothEdible / smooth * 100 ,'% are edible.')\n",
    "\n"
   ]
  },
  {
   "cell_type": "code",
   "execution_count": 6,
   "metadata": {
    "scrolled": false
   },
   "outputs": [
    {
     "name": "stdout",
     "output_type": "stream",
     "text": [
      "cap-color  class\n",
      "b          e          48\n",
      "           p         120\n",
      "c          e          32\n",
      "           p          12\n",
      "e          e         624\n",
      "           p         876\n",
      "g          e        1032\n",
      "           p         808\n",
      "n          e        1264\n",
      "           p        1020\n",
      "p          e          56\n",
      "           p          88\n",
      "r          e          16\n",
      "u          e          16\n",
      "w          e         720\n",
      "           p         320\n",
      "y          e         400\n",
      "           p         672\n",
      "Name: class, dtype: int64\n",
      "Buff cap-color Mushrooms' 28.57142857142857 % are edible.\n",
      "Cinnamon cap-color Mushrooms' 72.72727272727273 % are edible.\n",
      "Red cap-color Mushrooms' 41.6 % are edible.\n",
      "Gray cap-color Mushrooms' 56.086956521739125 % are edible.\n",
      "Brown cap-color Mushrooms' 55.34150612959719 % are edible.\n",
      "Pink cap-color Mushrooms' 38.88888888888889 % are edible.\n",
      "Green cap-color Mushrooms' 100.0 % are edible.\n",
      "Purple cap-color Mushrooms' 100.0 % are edible.\n",
      "White cap-color Mushrooms' 69.23076923076923 % are edible.\n",
      "Yellow cap-color Mushrooms' 37.3134328358209 % are edible.\n"
     ]
    },
    {
     "data": {
      "image/png": "[encoded data removed]",
      "text/plain": [
       "<Figure size 432x288 with 1 Axes>"
      ]
     },
     "metadata": {
      "needs_background": "light"
     },
     "output_type": "display_data"
    }
   ],
   "source": [
    "#cape-color posınous and edıbles graphıcs\n",
    "\n",
    "print(df.groupby(['cap-color','class'])['class'].count())\n",
    "\n",
    "buffEdible = df.groupby(['cap-color','class'])['class'].count()[0]  \n",
    "buffPosionus = df.groupby(['cap-color','class'])['class'].count()[1]\n",
    "buff = buffEdible + buffPosionus\n",
    "\n",
    "cinnamonEdible = df.groupby(['cap-color','class'])['class'].count()[2]  \n",
    "cinnamonPosionus = df.groupby(['cap-color','class'])['class'].count()[3]\n",
    "cinnamon = cinnamonEdible + cinnamonPosionus\n",
    "\n",
    "\n",
    "redEdible = df.groupby(['cap-color','class'])['class'].count()[4]  \n",
    "redPosionus = df.groupby(['cap-color','class'])['class'].count()[5]\n",
    "red = redEdible + redPosionus\n",
    "\n",
    "grayEdible = df.groupby(['cap-color','class'])['class'].count()[6]  \n",
    "grayPosionus = df.groupby(['cap-color','class'])['class'].count()[7]\n",
    "gray = grayEdible + grayPosionus\n",
    "\n",
    "brownEdible = df.groupby(['cap-color','class'])['class'].count()[8]  \n",
    "brownPosionus = df.groupby(['cap-color','class'])['class'].count()[9]\n",
    "brown = brownEdible + brownPosionus\n",
    "\n",
    "pinkEdible = df.groupby(['cap-color','class'])['class'].count()[10]  \n",
    "pinkPosionus = df.groupby(['cap-color','class'])['class'].count()[11]\n",
    "pink = pinkEdible + pinkPosionus\n",
    "\n",
    "greenEdible = df.groupby(['cap-color','class'])['class'].count()[12]  \n",
    "greenPosionus = 0\n",
    "green = greenEdible + greenPosionus\n",
    "\n",
    "purpleEdible = df.groupby(['cap-color','class'])['class'].count()[13]  \n",
    "purplePosionus = 0\n",
    "purple = purpleEdible + purplePosionus\n",
    "\n",
    "\n",
    "whiteEdible = df.groupby(['cap-color','class'])['class'].count()[14]  \n",
    "whitePosionus = df.groupby(['cap-color','class'])['class'].count()[15]\n",
    "white = whiteEdible + whitePosionus\n",
    "\n",
    "\n",
    "yellowEdible = df.groupby(['cap-color','class'])['class'].count()[16]  \n",
    "yellowPosionus = df.groupby(['cap-color','class'])['class'].count()[17]\n",
    "yellow = yellowEdible + yellowPosionus\n",
    "\n",
    "greenBars = [buffEdible, cinnamonEdible,  redEdible, grayEdible, brownEdible, pinkEdible, greenEdible, purpleEdible, whiteEdible, yellowEdible]\n",
    "redBars =  [buffPosionus, cinnamonPosionus,  redPosionus, grayPosionus, brownPosionus, pinkPosionus, greenPosionus, purplePosionus, whitePosionus, yellowPosionus]\n",
    "\n",
    "r = ['Buff', 'Cinnamon', 'Red', 'Gray','Brown', 'Pink','Green','Purple','White', 'Yellow']\n",
    "plt.bar(r, greenBars, color='#b5ffb9')\n",
    "plt.bar(r, redBars, bottom=greenBars, color='#F9685F')\n",
    "\n",
    "print('Buff cap-color Mushrooms\\'', buffEdible / buff * 100 ,'% are edible.')\n",
    "print('Cinnamon cap-color Mushrooms\\'', cinnamonEdible / cinnamon * 100 ,'% are edible.')\n",
    "print('Red cap-color Mushrooms\\'', redEdible / red * 100 ,'% are edible.')\n",
    "print('Gray cap-color Mushrooms\\'', grayEdible / gray * 100 ,'% are edible.')\n",
    "print('Brown cap-color Mushrooms\\'', brownEdible / brown * 100 ,'% are edible.')\n",
    "print('Pink cap-color Mushrooms\\'', pinkEdible / pink * 100 ,'% are edible.')\n",
    "print('Green cap-color Mushrooms\\'', greenEdible / green * 100 ,'% are edible.')\n",
    "print('Purple cap-color Mushrooms\\'', purpleEdible / purple * 100 ,'% are edible.')\n",
    "print('White cap-color Mushrooms\\'', whiteEdible / white * 100 ,'% are edible.')\n",
    "print('Yellow cap-color Mushrooms\\'', yellowEdible / yellow * 100 ,'% are edible.')"
   ]
  },
  {
   "cell_type": "code",
   "execution_count": 7,
   "metadata": {},
   "outputs": [
    {
     "name": "stdout",
     "output_type": "stream",
     "text": [
      "bruises  class\n",
      "f        e        1456\n",
      "         p        3292\n",
      "t        e        2752\n",
      "         p         624\n",
      "Name: class, dtype: int64\n",
      "Bruises Mushrooms' 30.66554338668913 % are edible.\n",
      "Not Bruises Mushrooms' 81.51658767772511 % are edible.\n"
     ]
    },
    {
     "data": {
      "image/png": "[encoded data removed]",
      "text/plain": [
       "<Figure size 432x288 with 1 Axes>"
      ]
     },
     "metadata": {
      "needs_background": "light"
     },
     "output_type": "display_data"
    }
   ],
   "source": [
    "#Bruises posınous and edıbles graphıcs\n",
    "\n",
    "print(df.groupby(['bruises','class'])['class'].count())\n",
    "\n",
    "bruisesEdible = df.groupby(['bruises','class'])['class'].count()[0]  \n",
    "bruisesPosionus = df.groupby(['bruises','class'])['class'].count()[1]\n",
    "bruises = bruisesEdible + bruisesPosionus\n",
    "\n",
    "\n",
    "notBruisesEdible = df.groupby(['bruises','class'])['class'].count()[2]  \n",
    "notBruisesPosionus = df.groupby(['bruises','class'])['class'].count()[3]\n",
    "notBruises = notBruisesEdible + notBruisesPosionus\n",
    "\n",
    "\n",
    "greenBars = [bruisesEdible, notBruisesEdible]\n",
    "redBars = [bruisesPosionus, notBruisesPosionus]\n",
    "\n",
    "r = ['Bruises', 'Not Bruises']\n",
    "plt.bar(r, greenBars, color='#b5ffb9')\n",
    "plt.bar(r, redBars, bottom=greenBars, color='#F9685F')\n",
    "\n",
    "print('Bruises Mushrooms\\'', bruisesEdible / bruises * 100 ,'% are edible.')\n",
    "print('Not Bruises Mushrooms\\'', notBruisesEdible / notBruises * 100 ,'% are edible.')\n"
   ]
  },
  {
   "cell_type": "code",
   "execution_count": 8,
   "metadata": {},
   "outputs": [
    {
     "name": "stdout",
     "output_type": "stream",
     "text": [
      "odor  class\n",
      "a     e         400\n",
      "c     p         192\n",
      "f     p        2160\n",
      "l     e         400\n",
      "m     p          36\n",
      "n     e        3408\n",
      "      p         120\n",
      "p     p         256\n",
      "s     p         576\n",
      "y     p         576\n",
      "Name: class, dtype: int64\n",
      "Almond odor Mushrooms' 100.0 % are edible.\n",
      "Creosote odor Mushrooms' 0.0 % are edible.\n",
      "Foul odor Mushrooms' 0.0 % are edible.\n",
      "Anise odor Mushrooms' 100.0 % are edible.\n",
      "Musty odor Mushrooms' 0.0 % are edible.\n",
      "None odor Mushrooms' 96.5986394557823 % are edible.\n",
      "Pungent odor Mushrooms' 0.0 % are edible.\n",
      "Spicy odor Mushrooms' 0.0 % are edible.\n",
      "Fishy odor Mushrooms' 0.0 % are edible.\n"
     ]
    },
    {
     "data": {
      "image/png": "[encoded data removed]",
      "text/plain": [
       "<Figure size 432x288 with 1 Axes>"
      ]
     },
     "metadata": {
      "needs_background": "light"
     },
     "output_type": "display_data"
    }
   ],
   "source": [
    "#odor mushrooms posınous and edıbles graphıcs\n",
    "\n",
    "print(df.groupby(['odor','class'])['class'].count())\n",
    "\n",
    "almondEdible = df.groupby(['odor','class'])['class'].count()[0]  \n",
    "almondPosionus = 0\n",
    "almond = almondEdible + almondPosionus\n",
    "\n",
    "\n",
    "creosoteEdible = 0  \n",
    "creosotePosionus = df.groupby(['odor','class'])['class'].count()[1]\n",
    "creosote = creosoteEdible + creosotePosionus\n",
    "\n",
    "\n",
    "foulEdible = 0 \n",
    "foulPosionus = df.groupby(['odor','class'])['class'].count()[2]\n",
    "foul = foulEdible + foulPosionus\n",
    "\n",
    "\n",
    "aniseEdible = df.groupby(['odor','class'])['class'].count()[3]  \n",
    "anisePosionus = 0\n",
    "anise = aniseEdible + anisePosionus\n",
    "\n",
    "\n",
    "mustyEdible = 0\n",
    "mustyPosionus = df.groupby(['odor','class'])['class'].count()[4]\n",
    "musty = mustyEdible + mustyPosionus\n",
    "\n",
    "\n",
    "noneEdible = df.groupby(['odor','class'])['class'].count()[5]  \n",
    "nonePosionus = df.groupby(['odor','class'])['class'].count()[6]\n",
    "none = noneEdible + nonePosionus\n",
    "\n",
    "\n",
    "pungentEdible = 0  \n",
    "pungentPosionus = df.groupby(['odor','class'])['class'].count()[7]\n",
    "pungent = pungentEdible + pungentPosionus\n",
    "\n",
    "\n",
    "spicyEdible = 0\n",
    "spicyPosionus = df.groupby(['odor','class'])['class'].count()[8]\n",
    "spicy = spicyEdible + spicyPosionus\n",
    "\n",
    "\n",
    "fishyEdible = 0 \n",
    "fishyPosionus = df.groupby(['odor','class'])['class'].count()[9]\n",
    "fishy = fishyEdible + fishyPosionus\n",
    "\n",
    "\n",
    "greenBars = [almondEdible, creosoteEdible, foulEdible, aniseEdible, mustyEdible, noneEdible, pungentEdible, spicyEdible, fishyEdible]\n",
    "redBars = [almondPosionus, creosotePosionus, foulPosionus, anisePosionus, mustyPosionus, nonePosionus, pungentPosionus, spicyPosionus, fishyPosionus]\n",
    "\n",
    "r = ['Almond', 'Creosote', 'Foul','Anise', 'Musty', 'None', 'Pungent', 'Spicy', 'Fishy']\n",
    "plt.bar(r, greenBars, color='#b5ffb9')\n",
    "plt.bar(r, redBars, bottom=greenBars, color='#F9685F')\n",
    "\n",
    "print('Almond odor Mushrooms\\'', almondEdible / almond * 100 ,'% are edible.')\n",
    "print('Creosote odor Mushrooms\\'', creosoteEdible / creosote * 100 ,'% are edible.')\n",
    "print('Foul odor Mushrooms\\'', foulEdible / foul * 100 ,'% are edible.')\n",
    "print('Anise odor Mushrooms\\'', aniseEdible / anise * 100 ,'% are edible.')\n",
    "print('Musty odor Mushrooms\\'', mustyEdible / musty * 100 ,'% are edible.')\n",
    "print('None odor Mushrooms\\'', noneEdible / none * 100 ,'% are edible.')\n",
    "print('Pungent odor Mushrooms\\'', pungentEdible / pungent * 100 ,'% are edible.')\n",
    "print('Spicy odor Mushrooms\\'', spicyEdible /spicy * 100 ,'% are edible.')\n",
    "print('Fishy odor Mushrooms\\'', fishyEdible / fishy * 100 ,'% are edible.')\n"
   ]
  },
  {
   "cell_type": "code",
   "execution_count": 9,
   "metadata": {},
   "outputs": [
    {
     "name": "stdout",
     "output_type": "stream",
     "text": [
      "gill-attachment  class\n",
      "a                e         192\n",
      "                 p          18\n",
      "f                e        4016\n",
      "                 p        3898\n",
      "Name: class, dtype: int64\n",
      "Bruises Mushrooms' 91.42857142857143 % are edible.\n",
      "Not Bruises Mushrooms' 50.74551427849381 % are edible.\n"
     ]
    },
    {
     "data": {
      "image/png": "[encoded data removed]",
      "text/plain": [
       "<Figure size 432x288 with 1 Axes>"
      ]
     },
     "metadata": {
      "needs_background": "light"
     },
     "output_type": "display_data"
    }
   ],
   "source": [
    "#Gill Attachment posınous and edıbles graphıcs\n",
    "\n",
    "print(df.groupby(['gill-attachment','class'])['class'].count())\n",
    "\n",
    "attachedEdible = df.groupby(['gill-attachment','class'])['class'].count()[0]  \n",
    "attachedPosionus = df.groupby(['gill-attachment','class'])['class'].count()[1]\n",
    "attached = attachedEdible + attachedPosionus\n",
    "\n",
    "\n",
    "freeEdible = df.groupby(['gill-attachment','class'])['class'].count()[2]  \n",
    "freePosionus = df.groupby(['gill-attachment','class'])['class'].count()[3]\n",
    "free = freeEdible + freePosionus\n",
    "\n",
    "\n",
    "\n",
    "greenBars = [attachedEdible, freeEdible]\n",
    "redBars = [attachedPosionus, freePosionus]\n",
    "\n",
    "r = ['Attached', 'Free']\n",
    "plt.bar(r, greenBars, color='#b5ffb9')\n",
    "plt.bar(r, redBars, bottom=greenBars, color='#F9685F')\n",
    "\n",
    "print('Bruises Mushrooms\\'', attachedEdible / attached * 100 ,'% are edible.')\n",
    "print('Not Bruises Mushrooms\\'', freeEdible / free * 100 ,'% are edible.')\n"
   ]
  },
  {
   "cell_type": "code",
   "execution_count": 10,
   "metadata": {
    "scrolled": true
   },
   "outputs": [
    {
     "name": "stdout",
     "output_type": "stream",
     "text": [
      "gill-spacing  class\n",
      "c             e        3008\n",
      "              p        3804\n",
      "w             e        1200\n",
      "              p         112\n",
      "Name: class, dtype: int64\n",
      "Close gill-spacing Mushrooms' 44.157369348209045 % are edible.\n",
      "Crowded gill-spacing Mushrooms' 50.74551427849381 % are edible.\n"
     ]
    },
    {
     "data": {
      "image/png": "[encoded data removed]",
      "text/plain": [
       "<Figure size 432x288 with 1 Axes>"
      ]
     },
     "metadata": {
      "needs_background": "light"
     },
     "output_type": "display_data"
    }
   ],
   "source": [
    "#Gill Spacing posinous and edibles graphics\n",
    "\n",
    "print(df.groupby(['gill-spacing','class'])['class'].count())\n",
    "\n",
    "closeEdible = df.groupby(['gill-spacing','class'])['class'].count()[0]  \n",
    "closePosionus = df.groupby(['gill-spacing','class'])['class'].count()[1]\n",
    "close = closeEdible + closePosionus\n",
    "\n",
    "\n",
    "crowdedEdible = df.groupby(['gill-attachment','class'])['class'].count()[2]  \n",
    "crowdedPosionus = df.groupby(['gill-attachment','class'])['class'].count()[3]\n",
    "crowded = crowdedEdible + crowdedPosionus\n",
    "\n",
    "\n",
    "\n",
    "greenBars = [closeEdible, crowdedEdible]\n",
    "redBars = [closePosionus, crowdedPosionus]\n",
    "\n",
    "r = ['Close', 'Crowded']\n",
    "plt.bar(r, greenBars, color='#b5ffb9')\n",
    "plt.bar(r, redBars, bottom=greenBars, color='#F9685F')\n",
    "\n",
    "print('Close gill-spacing Mushrooms\\'', closeEdible / close * 100 ,'% are edible.')\n",
    "print('Crowded gill-spacing Mushrooms\\'', crowdedEdible / crowded * 100 ,'% are edible.')"
   ]
  },
  {
   "cell_type": "code",
   "execution_count": 11,
   "metadata": {},
   "outputs": [
    {
     "name": "stdout",
     "output_type": "stream",
     "text": [
      "gill-size  class\n",
      "b          e        3920\n",
      "           p        1692\n",
      "n          e         288\n",
      "           p        2224\n",
      "Name: class, dtype: int64\n",
      "broad gill-spacing Mushrooms' 69.85032074126872 % are edible.\n",
      "Crowded gill-spacing Mushrooms' 11.464968152866243 % are edible.\n"
     ]
    },
    {
     "data": {
      "image/png": "[encoded data removed]",
      "text/plain": [
       "<Figure size 432x288 with 1 Axes>"
      ]
     },
     "metadata": {
      "needs_background": "light"
     },
     "output_type": "display_data"
    }
   ],
   "source": [
    "#Gill size posınous and edıbles graphıcs\n",
    "\n",
    "print(df.groupby(['gill-size','class'])['class'].count())\n",
    "\n",
    "broadEdible = df.groupby(['gill-size','class'])['class'].count()[0]  \n",
    "broadPosionus = df.groupby(['gill-size','class'])['class'].count()[1]\n",
    "broad = broadEdible + broadPosionus\n",
    "\n",
    "\n",
    "narrowEdible = df.groupby(['gill-size','class'])['class'].count()[2]  \n",
    "narrowPosionus = df.groupby(['gill-size','class'])['class'].count()[3]\n",
    "narrow = narrowEdible + narrowPosionus\n",
    "\n",
    "\n",
    "\n",
    "greenBars = [broadEdible, narrowEdible]\n",
    "redBars = [broadPosionus, narrowPosionus]\n",
    "\n",
    "r = ['Broad', 'Crowded']\n",
    "plt.bar(r, greenBars, color='#b5ffb9')\n",
    "plt.bar(r, redBars, bottom=greenBars, color='#F9685F')\n",
    "\n",
    "print('broad gill-spacing Mushrooms\\'', broadEdible / broad * 100 ,'% are edible.')\n",
    "print('Crowded gill-spacing Mushrooms\\'', narrowEdible / narrow * 100 ,'% are edible.')"
   ]
  },
  {
   "cell_type": "code",
   "execution_count": 12,
   "metadata": {},
   "outputs": [
    {
     "name": "stdout",
     "output_type": "stream",
     "text": [
      "gill-color  class\n",
      "b           p        1728\n",
      "e           e          96\n",
      "g           e         248\n",
      "            p         504\n",
      "h           e         204\n",
      "            p         528\n",
      "k           e         344\n",
      "            p          64\n",
      "n           e         936\n",
      "            p         112\n",
      "o           e          64\n",
      "p           e         852\n",
      "            p         640\n",
      "r           p          24\n",
      "u           e         444\n",
      "            p          48\n",
      "w           e         956\n",
      "            p         246\n",
      "y           e          64\n",
      "            p          22\n",
      "Name: class, dtype: int64\n",
      "Buff cap-color Mushrooms' 0.0 % are edible.\n",
      "Red cap-color Mushrooms' 100.0 % are edible.\n",
      "Gray cap-color Mushrooms' 32.97872340425532 % are edible.\n",
      "Black cap-color Mushrooms' 84.31372549019608 % are edible.\n",
      "Brown cap-color Mushrooms' 89.31297709923665 % are edible.\n",
      "Orange cap-color Mushrooms' 100.0 % are edible.\n",
      "Pink cap-color Mushrooms' 57.10455764075068 % are edible.\n",
      "Green cap-color Mushrooms' 0.0 % are edible.\n",
      "Purple cap-color Mushrooms' 90.2439024390244 % are edible.\n",
      "White cap-color Mushrooms' 79.53410981697171 % are edible.\n",
      "Yellow cap-color Mushrooms' 74.4186046511628 % are edible.\n"
     ]
    },
    {
     "data": {
      "image/png": "[encoded data removed]",
      "text/plain": [
       "<Figure size 432x288 with 1 Axes>"
      ]
     },
     "metadata": {
      "needs_background": "light"
     },
     "output_type": "display_data"
    }
   ],
   "source": [
    "#Gill color posınous and edıbles graphıcs\n",
    "\n",
    "print(df.groupby(['gill-color','class'])['class'].count())\n",
    "\n",
    "buffGillEdible = 0 \n",
    "buffGillPosionus = df.groupby(['gill-color','class'])['class'].count()[0]\n",
    "buffGill = buffGillEdible + buffGillPosionus\n",
    "\n",
    "redGillEdible = df.groupby(['gill-color','class'])['class'].count()[1]  \n",
    "redGillPosionus = 0\n",
    "redGill = redGillEdible + redGillPosionus\n",
    "\n",
    "grayGillEdible = df.groupby(['gill-color','class'])['class'].count()[2]  \n",
    "grayGillPosionus = df.groupby(['gill-color','class'])['class'].count()[3]\n",
    "grayGill = grayGillEdible + grayGillPosionus\n",
    "\n",
    "chocolateGillEdible = df.groupby(['gill-color','class'])['class'].count()[4]  \n",
    "chocolateGillPosionus = df.groupby(['gill-color','class'])['class'].count()[5]\n",
    "chocolateGill = chocolateGillEdible + chocolateGillPosionus\n",
    "\n",
    "blackGillEdible = df.groupby(['gill-color','class'])['class'].count()[6]  \n",
    "blackGillPosionus = df.groupby(['gill-color','class'])['class'].count()[7]\n",
    "blackGill = blackGillEdible + blackGillPosionus\n",
    "\n",
    "brownGillEdible = df.groupby(['gill-color','class'])['class'].count()[8]  \n",
    "brownGillPosionus = df.groupby(['gill-color','class'])['class'].count()[9]\n",
    "brownGill = brownGillEdible + brownGillPosionus\n",
    "\n",
    "orangeGillEdible = df.groupby(['gill-color','class'])['class'].count()[10]  \n",
    "orangeGillPosionus = 0\n",
    "orangeGill = orangeGillEdible + orangeGillPosionus\n",
    "\n",
    "pinkGillEdible = df.groupby(['gill-color','class'])['class'].count()[11]  \n",
    "pinkGillPosionus = df.groupby(['gill-color','class'])['class'].count()[12]\n",
    "pinkGill = pinkGillEdible + pinkGillPosionus\n",
    "\n",
    "\n",
    "greenGillEdible = 0 \n",
    "greenGillPosionus = df.groupby(['gill-color','class'])['class'].count()[13]\n",
    "greenGill = greenGillEdible + greenGillPosionus\n",
    "\n",
    "\n",
    "purpleGillEdible = df.groupby(['gill-color','class'])['class'].count()[14]  \n",
    "purpleGillPosionus = df.groupby(['gill-color','class'])['class'].count()[15]\n",
    "purpleGill = purpleGillEdible + purpleGillPosionus\n",
    "\n",
    "whiteGillEdible = df.groupby(['gill-color','class'])['class'].count()[16]  \n",
    "whiteGillPosionus = df.groupby(['gill-color','class'])['class'].count()[17]\n",
    "whiteGill = whiteGillEdible + whiteGillPosionus\n",
    "\n",
    "yellowGillEdible = df.groupby(['gill-color','class'])['class'].count()[18]  \n",
    "yellowGillPosionus = df.groupby(['gill-color','class'])['class'].count()[19]\n",
    "yellowGill = yellowGillEdible + yellowGillPosionus\n",
    "\n",
    "\n",
    "\n",
    "\n",
    "\n",
    "greenBars = [buffGillEdible, redGillEdible,  grayGillEdible, chocolateGillEdible, blackGillEdible, brownGillEdible, orangeGillEdible, pinkGillEdible, greenGillEdible, purpleGillEdible, whiteGillEdible, yellowGillEdible]\n",
    "redBars =  [buffGillPosionus, redGillPosionus,  grayGillPosionus, chocolateGillPosionus, blackGillPosionus, brownGillPosionus, orangeGillPosionus, pinkGillPosionus, greenGillPosionus, purpleGillPosionus, whiteGillPosionus, yellowGillPosionus]\n",
    "\n",
    "r = ['Buff', 'Red', 'Gray','Chocolate', 'Black','Brown','Orange', 'Pink','Green','Purple','White', 'Yellow']\n",
    "plt.bar(r, greenBars, color='#b5ffb9')\n",
    "plt.bar(r, redBars, bottom=greenBars, color='#F9685F')\n",
    "\n",
    "\n",
    "print('Buff cap-color Mushrooms\\'', buffGillEdible / buffGill * 100 ,'% are edible.')\n",
    "print('Red cap-color Mushrooms\\'', redGillEdible / redGill * 100 ,'% are edible.')\n",
    "print('Gray cap-color Mushrooms\\'', grayGillEdible / grayGill * 100 ,'% are edible.')\n",
    "print('Black cap-color Mushrooms\\'', blackGillEdible / blackGill * 100 ,'% are edible.')\n",
    "print('Brown cap-color Mushrooms\\'', brownGillEdible / brownGill * 100 ,'% are edible.')\n",
    "print('Orange cap-color Mushrooms\\'', orangeGillEdible / orangeGill * 100 ,'% are edible.')\n",
    "print('Pink cap-color Mushrooms\\'', pinkGillEdible / pinkGill * 100 ,'% are edible.')\n",
    "print('Green cap-color Mushrooms\\'', greenGillEdible / greenGill * 100 ,'% are edible.')\n",
    "print('Purple cap-color Mushrooms\\'', purpleGillEdible / purpleGill * 100 ,'% are edible.')\n",
    "print('White cap-color Mushrooms\\'', whiteGillEdible / whiteGill * 100 ,'% are edible.')\n",
    "print('Yellow cap-color Mushrooms\\'', yellowGillEdible / yellowGill * 100 ,'% are edible.')\n",
    "\n"
   ]
  },
  {
   "cell_type": "code",
   "execution_count": 13,
   "metadata": {},
   "outputs": [
    {
     "name": "stdout",
     "output_type": "stream",
     "text": [
      "stalk-shape  class\n",
      "e            e        1616\n",
      "             p        1900\n",
      "t            e        2592\n",
      "             p        2016\n",
      "Name: class, dtype: int64\n",
      "Enlarging stalk-shape Mushrooms' 45.961319681456196 % are edible.\n",
      "Tapering stalk-shape Mushrooms' 56.25 % are edible.\n"
     ]
    },
    {
     "data": {
      "image/png": "[encoded data removed]",
      "text/plain": [
       "<Figure size 432x288 with 1 Axes>"
      ]
     },
     "metadata": {
      "needs_background": "light"
     },
     "output_type": "display_data"
    }
   ],
   "source": [
    "#Stalk shape posınous and edıbles graphıcs\n",
    "\n",
    "print(df.groupby(['stalk-shape','class'])['class'].count())\n",
    "\n",
    "enlargingEdible = df.groupby(['stalk-shape','class'])['class'].count()[0]  \n",
    "enlargingPosionus = df.groupby(['stalk-shape','class'])['class'].count()[1]\n",
    "enlarging = enlargingEdible + enlargingPosionus\n",
    "\n",
    "\n",
    "taperingEdible = df.groupby(['stalk-shape','class'])['class'].count()[2]  \n",
    "taperingPosionus = df.groupby(['stalk-shape','class'])['class'].count()[3]\n",
    "tapering = taperingEdible + taperingPosionus\n",
    "\n",
    "\n",
    "greenBars = [enlargingEdible, taperingEdible]\n",
    "redBars = [enlargingPosionus, taperingPosionus]\n",
    "\n",
    "r = ['Enlarging', 'Tapering']\n",
    "plt.bar(r, greenBars, color='#b5ffb9')\n",
    "plt.bar(r, redBars, bottom=greenBars, color='#F9685F')\n",
    "\n",
    "print('Enlarging stalk-shape Mushrooms\\'', enlargingEdible / enlarging * 100 ,'% are edible.')\n",
    "print('Tapering stalk-shape Mushrooms\\'', taperingEdible / tapering * 100 ,'% are edible.')"
   ]
  },
  {
   "cell_type": "code",
   "execution_count": 14,
   "metadata": {
    "scrolled": false
   },
   "outputs": [
    {
     "name": "stdout",
     "output_type": "stream",
     "text": [
      "stalk-root  class\n",
      "b           e        1920\n",
      "            p        1856\n",
      "c           e         512\n",
      "            p          44\n",
      "e           e         864\n",
      "            p         256\n",
      "r           e         192\n",
      "Name: class, dtype: int64\n",
      "Bulbous stalk-root Mushrooms' 50.847457627118644 % are edible.\n",
      "Club stalk-root Mushrooms' 92.08633093525181 % are edible.\n",
      "Equal stalk-root Mushrooms' 77.14285714285715 % are edible.\n",
      "Rooted stalk-root Mushrooms' 0.0 % are edible.\n"
     ]
    },
    {
     "data": {
      "image/png": "[encoded data removed]",
      "text/plain": [
       "<Figure size 432x288 with 1 Axes>"
      ]
     },
     "metadata": {
      "needs_background": "light"
     },
     "output_type": "display_data"
    }
   ],
   "source": [
    "#Stalk Root posınous and edıbles graphıcs\n",
    "\n",
    "print(df.groupby(['stalk-root','class'])['class'].count())\n",
    "\n",
    "bulbousEdible = df.groupby(['stalk-root','class'])['class'].count()[0]  \n",
    "bulbousPosionus = df.groupby(['stalk-root','class'])['class'].count()[1]\n",
    "bulbous = bulbousEdible + bulbousPosionus\n",
    "\n",
    "\n",
    "clubEdible = df.groupby(['stalk-root','class'])['class'].count()[2]  \n",
    "clubPosionus = df.groupby(['stalk-root','class'])['class'].count()[3]\n",
    "club = clubEdible + clubPosionus\n",
    "\n",
    "equalEdible = df.groupby(['stalk-root','class'])['class'].count()[4]  \n",
    "equalPosionus = df.groupby(['stalk-root','class'])['class'].count()[5]\n",
    "equal = equalEdible + equalPosionus\n",
    "\n",
    "rootedEdible = 0  \n",
    "rootedPosionus = df.groupby(['stalk-root','class'])['class'].count()[6]\n",
    "rooted = rootedEdible + rootedPosionus\n",
    "\n",
    "\n",
    "greenBars = [bulbousEdible, clubEdible, equalEdible, rootedEdible]\n",
    "redBars = [bulbousPosionus, clubPosionus, equalPosionus, rootedPosionus]\n",
    "\n",
    "r = ['Bulbous', 'Club','Equal','Rooted']\n",
    "plt.bar(r, greenBars, color='#b5ffb9')\n",
    "plt.bar(r, redBars, bottom=greenBars, color='#F9685F')\n",
    "\n",
    "print('Bulbous stalk-root Mushrooms\\'', bulbousEdible / bulbous * 100 ,'% are edible.')\n",
    "print('Club stalk-root Mushrooms\\'', clubEdible / club * 100 ,'% are edible.')\n",
    "print('Equal stalk-root Mushrooms\\'', equalEdible / equal * 100 ,'% are edible.')\n",
    "print('Rooted stalk-root Mushrooms\\'', rootedEdible / rooted * 100 ,'% are edible.')"
   ]
  },
  {
   "cell_type": "code",
   "execution_count": 15,
   "metadata": {},
   "outputs": [
    {
     "name": "stdout",
     "output_type": "stream",
     "text": [
      "stalk-surface-above-ring  class\n",
      "f                         e         408\n",
      "                          p         144\n",
      "k                         e         144\n",
      "                          p        2228\n",
      "s                         e        3640\n",
      "                          p        1536\n",
      "y                         e          16\n",
      "                          p           8\n",
      "Name: class, dtype: int64\n",
      "fibrous stalk-surface-above-ring Mushrooms' 73.91304347826086 % are edible.\n",
      "silky stalk-surface-above-ring Mushrooms' 6.070826306913997 % are edible.\n",
      "smooth stalk-surface-above-ring Mushrooms' 70.32457496136011 % are edible.\n",
      "scaly stalk-surface-above-ring Mushrooms' 8.333333333333332 % are edible.\n"
     ]
    },
    {
     "data": {
      "image/png": "[encoded data removed]",
      "text/plain": [
       "<Figure size 432x288 with 1 Axes>"
      ]
     },
     "metadata": {
      "needs_background": "light"
     },
     "output_type": "display_data"
    }
   ],
   "source": [
    "#Stalk surface above ring posınous and edıbles graphıcs\n",
    "\n",
    "print (df.groupby(['stalk-surface-above-ring','class'])['class'].count())\n",
    "\n",
    "\n",
    "fibrousEdible = df.groupby(['stalk-surface-above-ring','class'])['class'].count()[0]  \n",
    "fibrousPosionus = df.groupby(['stalk-surface-above-ring','class'])['class'].count()[1]\n",
    "fibrous = fibrousEdible + fibrousPosionus\n",
    "\n",
    "silkyEdible = df.groupby(['stalk-surface-above-ring','class'])['class'].count()[2]  \n",
    "silkyPosionus = df.groupby(['stalk-surface-above-ring','class'])['class'].count()[3]\n",
    "silky = silkyEdible + silkyPosionus\n",
    "\n",
    "smoothEdible = df.groupby(['stalk-surface-above-ring','class'])['class'].count()[4]  \n",
    "smoothPosionus = df.groupby(['stalk-surface-above-ring','class'])['class'].count()[5]\n",
    "smooth = smoothEdible + smoothPosionus\n",
    "\n",
    "scalyEdible = df.groupby(['stalk-surface-above-ring','class'])['class'].count()[6]  \n",
    "scalyPosionus = df.groupby(['stalk-surface-above-ring','class'])['class'].count()[7]\n",
    "scaly = scalyEdible + scalyPosionus\n",
    "\n",
    "greenBars = [fibrousEdible, silkyEdible, smoothEdible, scalyEdible]\n",
    "redBars = [fibrousPosionus, silkyPosionus, smoothPosionus, scalyPosionus]\n",
    "\n",
    "r = ['Fibrous', 'Silky','Smooth','Scaly']\n",
    "plt.bar(r, greenBars, color='#b5ffb9')\n",
    "plt.bar(r, redBars, bottom=greenBars, color='#F9685F')\n",
    "\n",
    "print('fibrous stalk-surface-above-ring Mushrooms\\'', fibrousEdible / fibrous * 100 ,'% are edible.')\n",
    "print('silky stalk-surface-above-ring Mushrooms\\'', silkyEdible / silky * 100 ,'% are edible.')\n",
    "print('smooth stalk-surface-above-ring Mushrooms\\'', smoothEdible / smooth * 100 ,'% are edible.')\n",
    "print('scaly stalk-surface-above-ring Mushrooms\\'', scalyEdible / rooted * 100 ,'% are edible.')\n"
   ]
  },
  {
   "cell_type": "code",
   "execution_count": 16,
   "metadata": {},
   "outputs": [
    {
     "name": "stdout",
     "output_type": "stream",
     "text": [
      "stalk-surface-below-ring  class\n",
      "f                         e         456\n",
      "                          p         144\n",
      "k                         e         144\n",
      "                          p        2160\n",
      "s                         e        3400\n",
      "                          p        1536\n",
      "y                         e         208\n",
      "                          p          76\n",
      "Name: class, dtype: int64\n",
      "Fibrous stalk-surface-above-ring Mushrooms' 73.91304347826086 % are edible.\n",
      "ilky stalk-surface-above-ring Mushrooms' 6.070826306913997 % are edible.\n",
      "smooth stalk-surface-above-ring Mushrooms' 70.32457496136011 % are edible.\n",
      "scaly stalk-surface-above-ring Mushrooms' 8.333333333333332 % are edible.\n"
     ]
    },
    {
     "data": {
      "image/png": "[encoded data removed]",
      "text/plain": [
       "<Figure size 432x288 with 1 Axes>"
      ]
     },
     "metadata": {
      "needs_background": "light"
     },
     "output_type": "display_data"
    }
   ],
   "source": [
    "#Stalk survace below ring posınous and edıbles graphıcs\n",
    "\n",
    "print (df.groupby(['stalk-surface-below-ring','class'])['class'].count())\n",
    "\n",
    "fibrousSurfaceEdible = df.groupby(['stalk-surface-below-ring','class'])['class'].count()[0]  \n",
    "fibrousSurfacePosionus = df.groupby(['stalk-surface-below-ring','class'])['class'].count()[1]\n",
    "fibrousSurface = fibrousSurfaceEdible + fibrousSurfacePosionus\n",
    "\n",
    "silkySurfaceEdible = df.groupby(['stalk-surface-below-ring','class'])['class'].count()[2]  \n",
    "silkySurfacePosionus = df.groupby(['stalk-surface-below-ring','class'])['class'].count()[3]\n",
    "silkySurface = silkySurfaceEdible + silkySurfacePosionus\n",
    "\n",
    "smoothSurfaceEdible = df.groupby(['stalk-surface-below-ring','class'])['class'].count()[4]  \n",
    "smoothSurfacePosionus = df.groupby(['stalk-surface-below-ring','class'])['class'].count()[5]\n",
    "smoothSurface = smoothSurfaceEdible + smoothSurfacePosionus\n",
    "\n",
    "scalySurfaceEdible = df.groupby(['stalk-surface-below-ring','class'])['class'].count()[6]  \n",
    "scalySurfacePosionus = df.groupby(['stalk-surface-below-ring','class'])['class'].count()[7]\n",
    "scalySurface = scalySurfaceEdible + scalySurfacePosionus\n",
    "\n",
    "greenBars = [fibrousSurfaceEdible, silkySurfaceEdible, smoothSurfaceEdible, scalySurfaceEdible]\n",
    "redBars = [fibrousSurfacePosionus, silkySurfacePosionus, smoothSurfacePosionus, scalySurfacePosionus]\n",
    "\n",
    "r = ['Fibrous', 'Silky','Equal','Rooted']\n",
    "plt.bar(r, greenBars, color='#b5ffb9')\n",
    "plt.bar(r, redBars, bottom=greenBars, color='#F9685F')\n",
    "\n",
    "print('Fibrous stalk-surface-above-ring Mushrooms\\'', fibrousEdible / fibrous * 100 ,'% are edible.')\n",
    "print('ilky stalk-surface-above-ring Mushrooms\\'', silkyEdible / silky * 100 ,'% are edible.')\n",
    "print('smooth stalk-surface-above-ring Mushrooms\\'', smoothEdible / smooth * 100 ,'% are edible.')\n",
    "print('scaly stalk-surface-above-ring Mushrooms\\'', scalyEdible / rooted * 100 ,'% are edible.')\n",
    "\n"
   ]
  },
  {
   "cell_type": "code",
   "execution_count": 17,
   "metadata": {
    "scrolled": false
   },
   "outputs": [
    {
     "name": "stdout",
     "output_type": "stream",
     "text": [
      "stalk-color-below-ring  class\n",
      "b                       p         432\n",
      "c                       p          36\n",
      "e                       e          96\n",
      "g                       e         576\n",
      "n                       e          64\n",
      "                        p         448\n",
      "o                       e         192\n",
      "p                       e         576\n",
      "                        p        1296\n",
      "w                       e        2704\n",
      "                        p        1680\n",
      "y                       p          24\n",
      "Name: class, dtype: int64\n",
      "Buff stalk-color-below-ring Mushrooms' 0.0 % are edible.\n",
      "Cinnamon stalk-color-below-ring Mushrooms' 0.0 % are edible.\n",
      "Red stalk-color-below-ring Mushrooms' 100.0 % are edible.\n",
      "Gray stalk-color-below-ring Mushrooms' 100.0 % are edible.\n",
      "Brown stalk-color-below-ring Mushrooms' 12.5 % are edible.\n",
      "Orange stalk-color-below-ring Mushrooms' 100.0 % are edible.\n",
      "Pink stalk-color-below-ring Mushrooms' 30.76923076923077 % are edible.\n",
      "White stalk-color-below-ring Mushrooms' 61.67883211678832 % are edible.\n",
      "Purple stalk-color-below-ring Mushrooms' 0.0 % are edible.\n"
     ]
    },
    {
     "data": {
      "image/png": "[encoded data removed]",
      "text/plain": [
       "<Figure size 432x288 with 1 Axes>"
      ]
     },
     "metadata": {
      "needs_background": "light"
     },
     "output_type": "display_data"
    }
   ],
   "source": [
    "#Stalk color below ring posınous and edıbles graphıcs\n",
    "\n",
    "print(df.groupby(['stalk-color-below-ring','class'])['class'].count())\n",
    "\n",
    "buffbelowEdible = 0 \n",
    "buffbelowPosionus = df.groupby(['stalk-color-below-ring','class'])['class'].count()[0]\n",
    "buffbelow = buffbelowEdible + buffbelowPosionus\n",
    "\n",
    "cinnamonbelowEdible = 0\n",
    "cinnamonbelowPosionus = df.groupby(['stalk-color-below-ring','class'])['class'].count()[1]\n",
    "cinnamonbelow = cinnamonbelowEdible + cinnamonbelowPosionus\n",
    "\n",
    "redbelowEdible = df.groupby(['stalk-color-below-ring','class'])['class'].count()[2]\n",
    "redbelowPosionus = 0\n",
    "redbelow = redbelowEdible + redbelowPosionus\n",
    "\n",
    "graybelowEdible = df.groupby(['stalk-color-below-ring','class'])['class'].count()[3]\n",
    "graybelowPosionus = 0\n",
    "graybelow = graybelowEdible + graybelowPosionus\n",
    "\n",
    "brownbelowEdible = df.groupby(['stalk-color-below-ring','class'])['class'].count()[4]\n",
    "brownbelowPosionus = df.groupby(['stalk-color-below-ring','class'])['class'].count()[5]\n",
    "brownbelow = brownbelowEdible + brownbelowPosionus\n",
    "\n",
    "orangebelowEdible = df.groupby(['stalk-color-below-ring','class'])['class'].count()[6]\n",
    "orangebelowPosionus = 0\n",
    "orangebelow = orangebelowEdible + orangebelowPosionus\n",
    "\n",
    "pinkbelowEdible = df.groupby(['stalk-color-below-ring','class'])['class'].count()[7]\n",
    "pinkbelowPosionus = df.groupby(['stalk-color-below-ring','class'])['class'].count()[8]\n",
    "pinkbelow = pinkbelowEdible + pinkbelowPosionus\n",
    "\n",
    "whitebelowEdible = df.groupby(['stalk-color-below-ring','class'])['class'].count()[9]\n",
    "whitebelowPosionus = df.groupby(['stalk-color-below-ring','class'])['class'].count()[10]\n",
    "whitebelow = whitebelowEdible + whitebelowPosionus\n",
    "\n",
    "yellowbelowEdible = 0\n",
    "yellowbelowPosionus = df.groupby(['stalk-color-below-ring','class'])['class'].count()[11]\n",
    "yellowbelow = yellowbelowEdible + yellowbelowPosionus\n",
    "\n",
    "greenBars = [buffbelowEdible, cinnamonbelowEdible,  redbelowEdible, graybelowEdible, brownbelowEdible, orangebelowEdible, pinkbelowEdible, whitebelowEdible, yellowbelowEdible]\n",
    "redBars =  [buffbelowPosionus, cinnamonbelowPosionus,  redbelowPosionus, graybelowPosionus, brownbelowPosionus, orangebelowPosionus, pinkbelowPosionus, whitebelowPosionus, yellowbelowPosionus]\n",
    "\n",
    "r = ['Buff','Cinnamon', 'Red', 'Gray','Brown','Orange', 'Pink', 'White', 'Yellow']\n",
    "plt.bar(r, greenBars, color='#b5ffb9')\n",
    "plt.bar(r, redBars, bottom=greenBars, color='#F9685F')\n",
    "\n",
    "\n",
    "print('Buff stalk-color-below-ring Mushrooms\\'', buffbelowEdible / buffbelow * 100 ,'% are edible.')\n",
    "print('Cinnamon stalk-color-below-ring Mushrooms\\'', cinnamonbelowEdible / cinnamonbelow * 100 ,'% are edible.')\n",
    "print('Red stalk-color-below-ring Mushrooms\\'', redbelowEdible / redbelow * 100 ,'% are edible.')\n",
    "print('Gray stalk-color-below-ring Mushrooms\\'', graybelowEdible / graybelow * 100 ,'% are edible.')\n",
    "print('Brown stalk-color-below-ring Mushrooms\\'', brownbelowEdible / brownbelow * 100 ,'% are edible.')\n",
    "print('Orange stalk-color-below-ring Mushrooms\\'', orangebelowEdible / orangebelow * 100 ,'% are edible.')\n",
    "print('Pink stalk-color-below-ring Mushrooms\\'', pinkbelowEdible / pinkbelow * 100 ,'% are edible.')\n",
    "print('White stalk-color-below-ring Mushrooms\\'', whitebelowEdible / whitebelow * 100 ,'% are edible.')\n",
    "print('Purple stalk-color-below-ring Mushrooms\\'', yellowbelowEdible / yellowbelow * 100 ,'% are edible.')"
   ]
  },
  {
   "cell_type": "code",
   "execution_count": 18,
   "metadata": {},
   "outputs": [
    {
     "name": "stdout",
     "output_type": "stream",
     "text": [
      "stalk-color-above-ring  class\n",
      "b                       p         432\n",
      "c                       p          36\n",
      "e                       e          96\n",
      "g                       e         576\n",
      "n                       e          16\n",
      "                        p         432\n",
      "o                       e         192\n",
      "p                       e         576\n",
      "                        p        1296\n",
      "w                       e        2752\n",
      "                        p        1712\n",
      "y                       p           8\n",
      "Name: class, dtype: int64\n",
      "Buff stalk-color-above-ring Mushrooms' 0.0 % are edible.\n",
      "Cinnamon stalk-color-above-ring Mushrooms' 0.0 % are edible.\n",
      "Red stalk-color-above-ring Mushrooms' 100.0 % are edible.\n",
      "Gray stalk-color-above-ring Mushrooms' 100.0 % are edible.\n",
      "Brown stalk-color-above-ring Mushrooms' 3.571428571428571 % are edible.\n",
      "Orange stalk-color-above-ring Mushrooms' 100.0 % are edible.\n",
      "Pink stalk-color-above-ring Mushrooms' 30.76923076923077 % are edible.\n",
      "White stalk-color-above-ring Mushrooms' 61.648745519713266 % are edible.\n",
      "Purple stalk-color-above-ring Mushrooms' 0.0 % are edible.\n"
     ]
    },
    {
     "data": {
      "image/png": "[encoded data removed]",
      "text/plain": [
       "<Figure size 432x288 with 1 Axes>"
      ]
     },
     "metadata": {
      "needs_background": "light"
     },
     "output_type": "display_data"
    }
   ],
   "source": [
    "#Stalk color above ring posınous and edıbles graphıcs\n",
    "\n",
    "print(df.groupby(['stalk-color-above-ring','class'])['class'].count())\n",
    "\n",
    "buffStalkEdible = 0 \n",
    "buffStalkPosionus = df.groupby(['stalk-color-above-ring','class'])['class'].count()[0]\n",
    "buffStalk = buffStalkEdible + buffStalkPosionus\n",
    "\n",
    "cinnamonStalkEdible = 0\n",
    "cinnamonStalkPosionus = df.groupby(['stalk-color-above-ring','class'])['class'].count()[1]\n",
    "cinnamonStalk = cinnamonStalkEdible + cinnamonStalkPosionus\n",
    "\n",
    "redStalkEdible = df.groupby(['stalk-color-above-ring','class'])['class'].count()[2]\n",
    "redStalkPosionus = 0\n",
    "redStalk = redStalkEdible + redStalkPosionus\n",
    "\n",
    "grayStalkEdible = df.groupby(['stalk-color-above-ring','class'])['class'].count()[3]\n",
    "grayStalkPosionus = 0\n",
    "grayStalk = grayStalkEdible + grayStalkPosionus\n",
    "\n",
    "brownStalkEdible = df.groupby(['stalk-color-above-ring','class'])['class'].count()[4]\n",
    "brownStalkPosionus = df.groupby(['stalk-color-above-ring','class'])['class'].count()[5]\n",
    "brownStalk = brownStalkEdible + brownStalkPosionus\n",
    "\n",
    "orangeStalkEdible = df.groupby(['stalk-color-above-ring','class'])['class'].count()[6]\n",
    "orangeStalkPosionus = 0\n",
    "orangeStalk = orangeStalkEdible + orangeStalkPosionus\n",
    "\n",
    "pinkStalkEdible = df.groupby(['stalk-color-above-ring','class'])['class'].count()[7]\n",
    "pinkStalkPosionus = df.groupby(['stalk-color-above-ring','class'])['class'].count()[8]\n",
    "pinkStalk = pinkStalkEdible + pinkStalkPosionus\n",
    "\n",
    "whiteStalkEdible = df.groupby(['stalk-color-above-ring','class'])['class'].count()[9]\n",
    "whiteStalkPosionus = df.groupby(['stalk-color-above-ring','class'])['class'].count()[10]\n",
    "whiteStalk = whiteStalkEdible + whiteStalkPosionus\n",
    "\n",
    "yellowStalkEdible = 0\n",
    "yellowStalkPosionus = df.groupby(['stalk-color-above-ring','class'])['class'].count()[11]\n",
    "yellowStalk = yellowStalkEdible + yellowStalkPosionus\n",
    "\n",
    "greenBars = [buffStalkEdible, cinnamonStalkEdible,  redStalkEdible, grayStalkEdible, brownStalkEdible, orangeStalkEdible, pinkStalkEdible, whiteStalkEdible, yellowStalkEdible]\n",
    "redBars =  [buffStalkPosionus, cinnamonStalkPosionus,  redStalkPosionus, grayStalkPosionus, brownStalkPosionus, orangeStalkPosionus, pinkStalkPosionus, whiteStalkPosionus, yellowStalkPosionus]\n",
    "\n",
    "r = ['Buff','Cinnamon', 'Red', 'Gray','Brown','Orange', 'Pink', 'White', 'Yellow']\n",
    "plt.bar(r, greenBars, color='#b5ffb9')\n",
    "plt.bar(r, redBars, bottom=greenBars, color='#F9685F')\n",
    "\n",
    "\n",
    "print('Buff stalk-color-above-ring Mushrooms\\'', buffStalkEdible / buffStalk * 100 ,'% are edible.')\n",
    "print('Cinnamon stalk-color-above-ring Mushrooms\\'', cinnamonStalkEdible / cinnamonStalk * 100 ,'% are edible.')\n",
    "print('Red stalk-color-above-ring Mushrooms\\'', redStalkEdible / redStalk * 100 ,'% are edible.')\n",
    "print('Gray stalk-color-above-ring Mushrooms\\'', grayStalkEdible / grayStalk * 100 ,'% are edible.')\n",
    "print('Brown stalk-color-above-ring Mushrooms\\'', brownStalkEdible / brownStalk * 100 ,'% are edible.')\n",
    "print('Orange stalk-color-above-ring Mushrooms\\'', orangeStalkEdible / orangeStalk * 100 ,'% are edible.')\n",
    "print('Pink stalk-color-above-ring Mushrooms\\'', pinkStalkEdible / pinkStalk * 100 ,'% are edible.')\n",
    "print('White stalk-color-above-ring Mushrooms\\'', whiteStalkEdible / whiteStalk * 100 ,'% are edible.')\n",
    "print('Purple stalk-color-above-ring Mushrooms\\'', yellowStalkEdible / yellowStalk * 100 ,'% are edible.')"
   ]
  },
  {
   "cell_type": "code",
   "execution_count": 19,
   "metadata": {},
   "outputs": [
    {
     "name": "stdout",
     "output_type": "stream",
     "text": [
      "veil-type  class\n",
      "p          e        4208\n",
      "           p        3916\n",
      "Name: class, dtype: int64\n",
      "Partial veil-type Mushrooms' 51.7971442639094 % are edible.\n"
     ]
    },
    {
     "data": {
      "image/png": "[encoded data removed]",
      "text/plain": [
       "<Figure size 432x288 with 1 Axes>"
      ]
     },
     "metadata": {
      "needs_background": "light"
     },
     "output_type": "display_data"
    }
   ],
   "source": [
    "#Veil posınous and edıbles graphıcs\n",
    "\n",
    "print(df.groupby(['veil-type','class'])['class'].count())\n",
    "\n",
    "partialEdible = df.groupby(['veil-type','class'])['class'].count()[0]  \n",
    "partialPosionus = df.groupby(['veil-type','class'])['class'].count()[1]\n",
    "partial = partialEdible + partialPosionus\n",
    "\n",
    "\n",
    "greenBars = [partialEdible]\n",
    "redBars = [partialPosionus]\n",
    "\n",
    "r = ['Partial']\n",
    "plt.bar(r, greenBars, color='#b5ffb9')\n",
    "plt.bar(r, redBars, bottom=greenBars, color='#F9685F')\n",
    "\n",
    "print('Partial veil-type Mushrooms\\'', partialEdible / partial * 100 ,'% are edible.')\n"
   ]
  },
  {
   "cell_type": "code",
   "execution_count": 20,
   "metadata": {},
   "outputs": [
    {
     "name": "stdout",
     "output_type": "stream",
     "text": [
      "veil-color  class\n",
      "n           e          96\n",
      "o           e          96\n",
      "w           e        4016\n",
      "            p        3908\n",
      "y           p           8\n",
      "Name: class, dtype: int64\n",
      "Brown veil-color Mushrooms' 100.0 % are edible.\n",
      "Orange veil-color Mushrooms' 100.0 % are edible.\n",
      "White veil-color Mushrooms' 50.68147400302877 % are edible.\n",
      "Yellow veil-color Mushrooms' 0.0 % are edible.\n"
     ]
    },
    {
     "data": {
      "image/png": "[encoded data removed]",
      "text/plain": [
       "<Figure size 432x288 with 1 Axes>"
      ]
     },
     "metadata": {
      "needs_background": "light"
     },
     "output_type": "display_data"
    }
   ],
   "source": [
    "#Veil color posınous and edıbles graphıcs\n",
    "\n",
    "print (df.groupby(['veil-color','class'])['class'].count())\n",
    "\n",
    "\n",
    "\n",
    "brownVeilEdible = df.groupby(['veil-color','class'])['class'].count()[0]  \n",
    "brownVeilPosionus = 0\n",
    "brownVeil = brownVeilEdible + brownVeilPosionus\n",
    "\n",
    "\n",
    "orangeVeilEdible = df.groupby(['veil-color','class'])['class'].count()[1]  \n",
    "orangeVeilPosionus = 0\n",
    "orangeVeil = orangeVeilEdible + orangeVeilPosionus\n",
    "\n",
    "\n",
    "whiteVeilEdible = df.groupby(['veil-color','class'])['class'].count()[2]  \n",
    "whiteVeilPosionus = df.groupby(['veil-color','class'])['class'].count()[3]\n",
    "whiteVeil = whiteVeilEdible + whiteVeilPosionus\n",
    "\n",
    "\n",
    "yellowVeilEdible = 0\n",
    "yellowVeilPosionus = df.groupby(['veil-color','class'])['class'].count()[4]\n",
    "yellowVeil = yellowVeilEdible + yellowVeilPosionus\n",
    "\n",
    "greenBars = [brownVeilEdible, orangeVeilEdible, whiteVeilEdible, yellowVeilEdible]\n",
    "redBars = [brownVeilPosionus, orangeVeilPosionus, whiteVeilPosionus, yellowVeilPosionus]\n",
    "\n",
    "r = ['brownVeil', 'orangeVeil','whiteVeil','yellowVeil']\n",
    "plt.bar(r, greenBars, color='#b5ffb9')\n",
    "plt.bar(r, redBars, bottom=greenBars, color='#F9685F')\n",
    "\n",
    "print('Brown veil-color Mushrooms\\'', brownVeilEdible / brownVeil * 100 ,'% are edible.')\n",
    "print('Orange veil-color Mushrooms\\'', orangeVeilEdible / orangeVeil * 100 ,'% are edible.')\n",
    "print('White veil-color Mushrooms\\'', whiteVeilEdible / whiteVeil * 100 ,'% are edible.')\n",
    "print('Yellow veil-color Mushrooms\\'', yellowVeilEdible / yellowVeil * 100 ,'% are edible.')\n",
    "\n"
   ]
  },
  {
   "cell_type": "code",
   "execution_count": 21,
   "metadata": {},
   "outputs": [
    {
     "name": "stdout",
     "output_type": "stream",
     "text": [
      "ring-number  class\n",
      "n            p          36\n",
      "o            e        3680\n",
      "             p        3808\n",
      "t            e         528\n",
      "             p          72\n",
      "Name: class, dtype: int64\n",
      "None ring Mushrooms' 0.0 % are edible.\n",
      "One ring Mushrooms' 49.14529914529914 % are edible.\n",
      "Two ring Mushrooms' 88.0 % are edible.\n"
     ]
    },
    {
     "data": {
      "image/png": "[encoded data removed]",
      "text/plain": [
       "<Figure size 432x288 with 1 Axes>"
      ]
     },
     "metadata": {
      "needs_background": "light"
     },
     "output_type": "display_data"
    }
   ],
   "source": [
    "#Ring number posınous and edıbles graphıcs\n",
    "\n",
    "print (df.groupby(['ring-number','class'])['class'].count())\n",
    "\n",
    "\n",
    "\n",
    "nonRingEdible = 0 \n",
    "nonRingPosionus = df.groupby(['ring-number','class'])['class'].count()[0] \n",
    "nonRing = nonRingEdible + nonRingPosionus\n",
    "\n",
    "\n",
    "oneRingEdible = df.groupby(['ring-number','class'])['class'].count()[1]  \n",
    "oneRingPosionus = df.groupby(['ring-number','class'])['class'].count()[2] \n",
    "oneRing = oneRingEdible + oneRingPosionus\n",
    "\n",
    "\n",
    "twoRingEdible = df.groupby(['ring-number','class'])['class'].count()[3]  \n",
    "twoRingPosionus = df.groupby(['ring-number','class'])['class'].count()[4]\n",
    "twoRing = twoRingEdible + twoRingPosionus\n",
    "\n",
    "\n",
    "greenBars = [nonRingEdible, oneRingEdible, twoRingEdible]\n",
    "redBars = [nonRingPosionus, oneRingPosionus, twoRingPosionus]\n",
    "\n",
    "r = ['nonRing', 'oneRing','twoRing']\n",
    "plt.bar(r, greenBars, color='#b5ffb9')\n",
    "plt.bar(r, redBars, bottom=greenBars, color='#F9685F')\n",
    "\n",
    "print('None ring Mushrooms\\'', nonRingEdible / nonRing * 100 ,'% are edible.')\n",
    "print('One ring Mushrooms\\'', oneRingEdible / oneRing * 100 ,'% are edible.')\n",
    "print('Two ring Mushrooms\\'', twoRingEdible / twoRing * 100 ,'% are edible.')\n",
    "\n"
   ]
  },
  {
   "cell_type": "code",
   "execution_count": 22,
   "metadata": {},
   "outputs": [
    {
     "name": "stdout",
     "output_type": "stream",
     "text": [
      "ring-type  class\n",
      "e          e        1008\n",
      "           p        1768\n",
      "f          e          48\n",
      "l          p        1296\n",
      "n          p          36\n",
      "p          e        3152\n",
      "           p         816\n",
      "Name: class, dtype: int64\n",
      "Evanescent ring-type Mushrooms' 36.31123919308357 % are edible.\n",
      "Flaring ring-type Mushrooms' 100.0 % are edible.\n",
      "LargeRing ring-type Mushrooms' 0.0 % are edible.\n",
      "None ring-type Mushrooms' 0.0 % are edible.\n",
      "Pendant ring-type Mushrooms' 79.43548387096774 % are edible.\n"
     ]
    },
    {
     "data": {
      "image/png": "[encoded data removed]",
      "text/plain": [
       "<Figure size 432x288 with 1 Axes>"
      ]
     },
     "metadata": {
      "needs_background": "light"
     },
     "output_type": "display_data"
    }
   ],
   "source": [
    "#Ring type posınous and edıbles graphıcs\n",
    "\n",
    "print (df.groupby(['ring-type','class'])['class'].count())\n",
    "\n",
    "\n",
    "\n",
    "evanescentEdible = df.groupby(['ring-type','class'])['class'].count()[0]  \n",
    "evanescentPosionus = df.groupby(['ring-type','class'])['class'].count()[1] \n",
    "evanescent = evanescentEdible + evanescentPosionus\n",
    "\n",
    "\n",
    "flaringEdible = df.groupby(['ring-type','class'])['class'].count()[2]  \n",
    "flaringPosionus = 0\n",
    "flaring = flaringEdible + flaringPosionus\n",
    "\n",
    "\n",
    "largeRingEdible = 0\n",
    "largeRingPosionus = df.groupby(['ring-type','class'])['class'].count()[3]\n",
    "largeRing = largeRingEdible + largeRingPosionus\n",
    "\n",
    "\n",
    "noneRingTypeEdible = 0\n",
    "noneRingTypePosionus = df.groupby(['ring-type','class'])['class'].count()[4]\n",
    "noneRingType = noneRingTypeEdible + noneRingTypePosionus\n",
    "\n",
    "pendantEdible = df.groupby(['ring-type','class'])['class'].count()[5]\n",
    "pendantPosionus = df.groupby(['ring-type','class'])['class'].count()[6]\n",
    "pendant = pendantEdible + pendantPosionus\n",
    "\n",
    "\n",
    "greenBars = [evanescentEdible, flaringEdible, largeRingEdible,noneRingTypeEdible, pendantEdible]\n",
    "redBars = [evanescentPosionus, flaringPosionus, largeRingPosionus,noneRingTypePosionus, pendantPosionus]\n",
    "\n",
    "r = ['evanescent', 'flaring','largeRing','noneRingType', 'pendant']\n",
    "plt.bar(r, greenBars, color='#b5ffb9')\n",
    "plt.bar(r, redBars, bottom=greenBars, color='#F9685F')\n",
    "\n",
    "print('Evanescent ring-type Mushrooms\\'', evanescentEdible / evanescent * 100 ,'% are edible.')\n",
    "print('Flaring ring-type Mushrooms\\'', flaringEdible / flaring * 100 ,'% are edible.')\n",
    "print('LargeRing ring-type Mushrooms\\'', largeRingEdible / largeRing * 100 ,'% are edible.')\n",
    "print('None ring-type Mushrooms\\'', noneRingTypeEdible / noneRingType * 100 ,'% are edible.')\n",
    "print('Pendant ring-type Mushrooms\\'', pendantEdible / pendant * 100 ,'% are edible.')\n",
    "\n"
   ]
  },
  {
   "cell_type": "code",
   "execution_count": 23,
   "metadata": {
    "scrolled": false
   },
   "outputs": [
    {
     "name": "stdout",
     "output_type": "stream",
     "text": [
      "spore-print-color  class\n",
      "b                  e          48\n",
      "h                  e          48\n",
      "                   p        1584\n",
      "k                  e        1648\n",
      "                   p         224\n",
      "n                  e        1744\n",
      "                   p         224\n",
      "o                  e          48\n",
      "r                  p          72\n",
      "u                  e          48\n",
      "w                  e         576\n",
      "                   p        1812\n",
      "y                  e          48\n",
      "Name: class, dtype: int64\n",
      "Buff spore-print-color Mushrooms' 100.0 % are edible.\n",
      "chocolate spore-print-color Mushrooms' 100.0 % are edible.\n",
      "black spore-print-color Mushrooms' 49.00990099009901 % are edible.\n",
      "green spore-print-color Mushrooms' 0.0 % are edible.\n",
      "Brown spore-print-color Mushrooms' 11.38211382113821 % are edible.\n",
      "Orange spore-print-color Mushrooms' 100.0 % are edible.\n",
      "Purple spore-print-color Mushrooms' 100.0 % are edible.\n",
      "White spore-print-color Mushrooms' 60.0 % are edible.\n",
      "Yellow spore-print-color Mushrooms' 100.0 % are edible.\n"
     ]
    },
    {
     "data": {
      "image/png": "[encoded data removed]",
      "text/plain": [
       "<Figure size 432x288 with 1 Axes>"
      ]
     },
     "metadata": {
      "needs_background": "light"
     },
     "output_type": "display_data"
    }
   ],
   "source": [
    "#Spore print color posınous and edıbles graphıcs\n",
    "\n",
    "\n",
    "print(df.groupby(['spore-print-color','class'])['class'].count())\n",
    "\n",
    "buffsporeEdible = df.groupby(['spore-print-color','class'])['class'].count()[0] \n",
    "buffsporePosionus = 0\n",
    "buffspore = buffsporeEdible + buffsporePosionus\n",
    "\n",
    "chocolatesporeEdible = df.groupby(['spore-print-color','class'])['class'].count()[1]\n",
    "chocolatesporePosionus = 0\n",
    "chocolatespore = chocolatesporeEdible + chocolatesporePosionus\n",
    "\n",
    "blacksporeEdible = df.groupby(['spore-print-color','class'])['class'].count()[2]\n",
    "blacksporePosionus = df.groupby(['spore-print-color','class'])['class'].count()[3]\n",
    "blackspore = blacksporeEdible + blacksporePosionus\n",
    "\n",
    "brownsporeEdible = df.groupby(['spore-print-color','class'])['class'].count()[4]\n",
    "brownsporePosionus = df.groupby(['spore-print-color','class'])['class'].count()[5]\n",
    "brownspore = brownsporeEdible + brownsporePosionus\n",
    "\n",
    "\n",
    "orangesporeEdible = df.groupby(['spore-print-color','class'])['class'].count()[6]\n",
    "orangesporePosionus = 0\n",
    "orangespore = orangesporeEdible + orangesporePosionus\n",
    "\n",
    "\n",
    "greensporeEdible = 0\n",
    "greensporePosionus = df.groupby(['spore-print-color','class'])['class'].count()[7]\n",
    "greenspore = greensporeEdible + greensporePosionus\n",
    "\n",
    "\n",
    "purplesporeEdible = df.groupby(['spore-print-color','class'])['class'].count()[7]\n",
    "purplesporePosionus = 0\n",
    "purplespore = purplesporeEdible + purplesporePosionus\n",
    "\n",
    "whitesporeEdible = df.groupby(['spore-print-color','class'])['class'].count()[8]\n",
    "whitesporePosionus = df.groupby(['spore-print-color','class'])['class'].count()[9]\n",
    "whitespore = whitesporeEdible + whitesporePosionus\n",
    "\n",
    "yellowsporeEdible = df.groupby(['spore-print-color','class'])['class'].count()[10]\n",
    "yellowsporePosionus = 0\n",
    "yellowspore = yellowsporeEdible + yellowsporePosionus\n",
    "\n",
    "greenBars = [buffsporeEdible, chocolatesporeEdible,  blacksporeEdible, greensporeEdible, brownsporeEdible, orangesporeEdible, purplesporeEdible, whitesporeEdible, yellowsporeEdible]\n",
    "redBars =  [buffsporePosionus, chocolatesporePosionus,  blacksporePosionus, greensporePosionus, brownsporePosionus, orangesporePosionus, purplesporePosionus, whitesporePosionus, yellowsporePosionus]\n",
    "\n",
    "r = ['Buff','chocolate', 'black', 'green','Brown','Orange', 'purple', 'White', 'Yellow']\n",
    "plt.bar(r, greenBars, color='#b5ffb9')\n",
    "plt.bar(r, redBars, bottom=greenBars, color='#F9685F')\n",
    "\n",
    "\n",
    "print('Buff spore-print-color Mushrooms\\'', buffsporeEdible / buffspore * 100 ,'% are edible.')\n",
    "print('chocolate spore-print-color Mushrooms\\'', chocolatesporeEdible / chocolatespore * 100 ,'% are edible.')\n",
    "print('black spore-print-color Mushrooms\\'', blacksporeEdible / blackspore * 100 ,'% are edible.')\n",
    "print('green spore-print-color Mushrooms\\'', greensporeEdible / greenspore * 100 ,'% are edible.')\n",
    "print('Brown spore-print-color Mushrooms\\'', brownsporeEdible / brownspore * 100 ,'% are edible.')\n",
    "print('Orange spore-print-color Mushrooms\\'', orangesporeEdible / orangespore * 100 ,'% are edible.')\n",
    "print('Purple spore-print-color Mushrooms\\'', purplesporeEdible / purplespore * 100 ,'% are edible.')\n",
    "print('White spore-print-color Mushrooms\\'', whitesporeEdible / whitespore * 100 ,'% are edible.')\n",
    "print('Yellow spore-print-color Mushrooms\\'', yellowsporeEdible / yellowspore * 100 ,'% are edible.')"
   ]
  },
  {
   "cell_type": "code",
   "execution_count": 24,
   "metadata": {},
   "outputs": [
    {
     "name": "stdout",
     "output_type": "stream",
     "text": [
      "population  class\n",
      "a           e         384\n",
      "c           e         288\n",
      "            p          52\n",
      "n           e         400\n",
      "s           e         880\n",
      "            p         368\n",
      "v           e        1192\n",
      "            p        2848\n",
      "y           e        1064\n",
      "            p         648\n",
      "Name: class, dtype: int64\n",
      "abundant population Mushrooms' 100.0 % are edible.\n",
      "clustered population Mushrooms' 84.70588235294117 % are edible.\n",
      "numerous population Mushrooms' 100.0 % are edible.\n",
      "scattered population Mushrooms' 70.51282051282051 % are edible.\n",
      "several population Mushrooms' 29.504950495049503 % are edible.\n",
      "solitary population Mushrooms' 62.149532710280376 % are edible.\n"
     ]
    },
    {
     "data": {
      "image/png": "[encoded data removed]",
      "text/plain": [
       "<Figure size 432x288 with 1 Axes>"
      ]
     },
     "metadata": {
      "needs_background": "light"
     },
     "output_type": "display_data"
    }
   ],
   "source": [
    "#Population posınous and edıbles graphıcs\n",
    "\n",
    "print(df.groupby(['population','class'])['class'].count())\n",
    "\n",
    "\n",
    "abundantEdible = df.groupby(['population','class'])['class'].count()[0]  \n",
    "abundantPosionus = 0\n",
    "abundant = abundantEdible + abundantPosionus\n",
    "\n",
    "clusteredEdible = df.groupby(['population','class'])['class'].count()[1]  \n",
    "clusteredPosionus = df.groupby(['population','class'])['class'].count()[2] \n",
    "clustered = clusteredEdible + clusteredPosionus\n",
    "\n",
    "numerousEdible = df.groupby(['population','class'])['class'].count()[3]  \n",
    "numerousPosionus = 0\n",
    "numerous = numerousEdible + numerousPosionus\n",
    "\n",
    "scatteredEdible = df.groupby(['population','class'])['class'].count()[4]  \n",
    "scatteredPosionus = df.groupby(['population','class'])['class'].count()[5]\n",
    "scattered = scatteredEdible + scatteredPosionus\n",
    "\n",
    "severalEdible = df.groupby(['population','class'])['class'].count()[6]  \n",
    "severalPosinous  = df.groupby(['population','class'])['class'].count()[7]  \n",
    "several = severalEdible + severalPosinous\n",
    "\n",
    "solitaryEdible = df.groupby(['population','class'])['class'].count()[8]  \n",
    "solitaryPosionus = df.groupby(['population','class'])['class'].count()[9]\n",
    "solitary = solitaryEdible + solitaryPosionus\n",
    "\n",
    "greenBars = [abundantEdible, clusteredEdible,  numerousEdible, scatteredEdible, severalEdible, solitaryEdible]\n",
    "redBars = [abundantPosionus, clusteredPosionus, numerousPosionus, scatteredPosionus, severalPosinous, solitaryPosionus]\n",
    "\n",
    "r = ['abundant', 'clustered', 'numerous', 'scattered','several', 'solitary']\n",
    "plt.bar(r, greenBars, color='#b5ffb9')\n",
    "plt.bar(r, redBars, bottom=greenBars, color='#F9685F')\n",
    "\n",
    "\n",
    "print('abundant population Mushrooms\\'', abundantEdible / abundant * 100 ,'% are edible.')\n",
    "print('clustered population Mushrooms\\'', clusteredEdible / clustered * 100 ,'% are edible.')\n",
    "print('numerous population Mushrooms\\'', numerousEdible / numerous * 100 ,'% are edible.')\n",
    "print('scattered population Mushrooms\\'', scatteredEdible / scattered * 100 ,'% are edible.')\n",
    "print('several population Mushrooms\\'', severalEdible / several * 100 ,'% are edible.')\n",
    "print('solitary population Mushrooms\\'', solitaryEdible / solitary * 100 ,'% are edible.')"
   ]
  },
  {
   "cell_type": "code",
   "execution_count": 25,
   "metadata": {},
   "outputs": [
    {
     "name": "stdout",
     "output_type": "stream",
     "text": [
      "habitat  class\n",
      "d        e        1880\n",
      "         p        1268\n",
      "g        e        1408\n",
      "         p         740\n",
      "l        e         240\n",
      "         p         592\n",
      "m        e         256\n",
      "         p          36\n",
      "p        e         136\n",
      "         p        1008\n",
      "u        e          96\n",
      "         p         272\n",
      "w        e         192\n",
      "Name: class, dtype: int64\n",
      "woods habitat Mushrooms' 59.720457433290974 % are edible.\n",
      "grasses habitat Mushrooms' 65.54934823091247 % are edible.\n",
      "leaves habitat Mushrooms' 28.846153846153843 % are edible.\n",
      "meadows habitat Mushrooms' 87.67123287671232 % are edible.\n",
      "paths habitat Mushrooms' 11.888111888111888 % are edible.\n",
      "urban habitat Mushrooms' 26.08695652173913 % are edible.\n",
      "waste habitat Mushrooms' 100.0 % are edible.\n"
     ]
    },
    {
     "data": {
      "image/png": "[encoded data removed]",
      "text/plain": [
       "<Figure size 432x288 with 1 Axes>"
      ]
     },
     "metadata": {
      "needs_background": "light"
     },
     "output_type": "display_data"
    }
   ],
   "source": [
    "#Habitat posınous and edıbles graphıcs\n",
    "\n",
    "print(df.groupby(['habitat','class'])['class'].count())\n",
    "\n",
    "\n",
    "woodsEdible = df.groupby(['habitat','class'])['class'].count()[0]  \n",
    "woodsPosionus = df.groupby(['habitat','class'])['class'].count()[1]\n",
    "woods = woodsEdible + woodsPosionus\n",
    "\n",
    "grassesEdible = df.groupby(['habitat','class'])['class'].count()[2]  \n",
    "grassesPosionus = df.groupby(['habitat','class'])['class'].count()[3] \n",
    "grasses = grassesEdible + grassesPosionus\n",
    "\n",
    "\n",
    "leavesEdible = df.groupby(['habitat','class'])['class'].count()[4]  \n",
    "leavesPosionus = df.groupby(['habitat','class'])['class'].count()[5] \n",
    "leaves = leavesEdible + leavesPosionus\n",
    "\n",
    "meadowsEdible = df.groupby(['habitat','class'])['class'].count()[6]  \n",
    "meadowsPosionus = df.groupby(['habitat','class'])['class'].count()[7]\n",
    "meadows = meadowsEdible + meadowsPosionus\n",
    "\n",
    "pathsEdible = df.groupby(['habitat','class'])['class'].count()[8]  \n",
    "pathsPosinous  = df.groupby(['habitat','class'])['class'].count()[9]  \n",
    "paths = pathsEdible + pathsPosinous\n",
    "\n",
    "urbanEdible = df.groupby(['habitat','class'])['class'].count()[10]  \n",
    "urbanPosionus = df.groupby(['habitat','class'])['class'].count()[11]\n",
    "urban = urbanEdible + urbanPosionus\n",
    "\n",
    "wasteEdible = df.groupby(['habitat','class'])['class'].count()[12]  \n",
    "wastePosionus = 0\n",
    "waste = wasteEdible + wastePosionus\n",
    "\n",
    "greenBars = [woodsEdible, grassesEdible,  leavesEdible, meadowsEdible, pathsEdible, urbanEdible, wasteEdible]\n",
    "redBars = [woodsPosionus, grassesPosionus, leavesPosionus, meadowsPosionus, pathsPosinous, urbanPosionus, wastePosionus]\n",
    "\n",
    "r = ['woods', 'grasses', 'leaves', 'meadows','paths', 'urban', 'waste']\n",
    "plt.bar(r, greenBars, color='#b5ffb9')\n",
    "plt.bar(r, redBars, bottom=greenBars, color='#F9685F')\n",
    "\n",
    "\n",
    "print('woods habitat Mushrooms\\'', woodsEdible / woods * 100 ,'% are edible.')\n",
    "print('grasses habitat Mushrooms\\'', grassesEdible / grasses * 100 ,'% are edible.')\n",
    "print('leaves habitat Mushrooms\\'', leavesEdible / leaves * 100 ,'% are edible.')\n",
    "print('meadows habitat Mushrooms\\'', meadowsEdible / meadows * 100 ,'% are edible.')\n",
    "print('paths habitat Mushrooms\\'', pathsEdible / paths * 100 ,'% are edible.')\n",
    "print('urban habitat Mushrooms\\'', urbanEdible / urban * 100 ,'% are edible.')\n",
    "print('waste habitat Mushrooms\\'', wasteEdible / waste * 100 ,'% are edible.')"
   ]
  },
  {
   "cell_type": "markdown",
   "metadata": {
    "pycharm": {
     "name": "#%% md\n"
    }
   },
   "source": [
    "## Models\n",
    "\n",
    "### k-Nearest Neighbors"
   ]
  },
  {
   "cell_type": "code",
   "execution_count": 26,
   "metadata": {
    "pycharm": {
     "name": "#%%\n"
    }
   },
   "outputs": [
    {
     "data": {
      "text/plain": [
       "'Accuracy = 1.0'"
      ]
     },
     "metadata": {},
     "output_type": "display_data"
    }
   ],
   "source": [
    "y_prediction, y_test = apply_model(sklearn.neighbors.KNeighborsClassifier(), X, y)\n",
    "display(f'Accuracy = {sklearn.metrics.accuracy_score(y_prediction, y_test)}')"
   ]
  },
  {
   "cell_type": "markdown",
   "metadata": {},
   "source": [
    "### Decision Tree"
   ]
  },
  {
   "cell_type": "code",
   "execution_count": 6,
   "metadata": {
    "pycharm": {
     "name": "#%%\n"
    }
   },
   "outputs": [
    {
     "data": {
      "text/plain": [
       "'Accuracy = 1.0'"
      ]
     },
     "metadata": {},
     "output_type": "display_data"
    }
   ],
   "source": [
    "y_prediction, y_test = apply_model(sklearn.tree.DecisionTreeClassifier(), X, y)\n",
    "display(f'Accuracy = {sklearn.metrics.accuracy_score(y_prediction, y_test)}')"
   ]
  },
  {
   "cell_type": "markdown",
   "metadata": {},
   "source": [
    "### Random Forest"
   ]
  },
  {
   "cell_type": "code",
   "execution_count": 7,
   "metadata": {
    "pycharm": {
     "name": "#%%\n"
    }
   },
   "outputs": [
    {
     "data": {
      "text/plain": [
       "'Accuracy = 1.0'"
      ]
     },
     "metadata": {},
     "output_type": "display_data"
    }
   ],
   "source": [
    "y_prediction, y_test = apply_model(sklearn.ensemble.RandomForestClassifier(), X, y)\n",
    "display(f'Accuracy = {sklearn.metrics.accuracy_score(y_prediction, y_test)}')\n"
   ]
  }
 ],
 "metadata": {
  "kernelspec": {
   "display_name": "Python 3",
   "language": "python",
   "name": "python3"
  },
  "language_info": {
   "codemirror_mode": {
    "name": "ipython",
    "version": 3
   },
   "file_extension": ".py",
   "mimetype": "text/x-python",
   "name": "python",
   "nbconvert_exporter": "python",
   "pygments_lexer": "ipython3",
   "version": "3.8.5"
  }
 },
 "nbformat": 4,
 "nbformat_minor": 1
}
